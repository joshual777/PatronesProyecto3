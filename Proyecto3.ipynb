{
  "cells": [
    {
      "cell_type": "markdown",
      "metadata": {
        "id": "view-in-github",
        "colab_type": "text"
      },
      "source": [
        "<a href=\"https://colab.research.google.com/github/joshual777/PatronesProyecto3/blob/feature%2FHipotesis-1/Proyecto3.ipynb\" target=\"_parent\"><img src=\"https://colab.research.google.com/assets/colab-badge.svg\" alt=\"Open In Colab\"/></a>"
      ]
    },
    {
      "cell_type": "markdown",
      "metadata": {
        "id": "fmgK_N7uRkVP"
      },
      "source": [
        "# **Proyecto 3 Aprendizaje no supervisado**\n",
        "\n",
        "Integrantes: \\\n",
        "Jose Julian Camacho Hernandez \\\n",
        "Leonardo Guillén Fernandez \\\n",
        "Joshua Guzmán Quesada"
      ]
    },
    {
      "cell_type": "markdown",
      "source": [
        "## Feature Egineering"
      ],
      "metadata": {
        "id": "6TQwY0vqExhQ"
      }
    },
    {
      "cell_type": "code",
      "source": [
        "# Librerías necesarias para el proceso de feature engineering\n",
        "# de las imágenes\n",
        "import os\n",
        "from PIL import Image\n",
        "\n",
        "# Script para procesar todas la imágenes del proyecto\n",
        "\n",
        "# Se lee el directorio donde esta las carpetas que contienen\n",
        "# las imágenes de los diferentes tipos de plantas tanto sanas\n",
        "# como enfermas\n",
        "\n",
        "categorias = []  # Lista para almacenar las categorías\n",
        "directorio = \"C:\\\\Users\\\\User\\\\Desktop\\\\XI SEMESTRE 2023\\\\Introducción al Reconocimiento de Patrones\\\\Semana 16\\\\Proyecto3\\\\Data for Identification of Plant Leaf Diseases Using a 9-layer Deep Convolutional Neural Network\\\\Plant_leave_diseases_dataset_without_augmentation\"  # Toma el directorio actual\n",
        "folders = os.listdir(directorio)  # Lista las carpetas\n",
        "extension = \".JPG\" # Extensión aprobada para las imágenes\n",
        "target_size = (100, 100) # Dimensión a recortar la imagen\n",
        "\n",
        "# Itera sobre el folder para obtener las categrías\n",
        "for cat in folders:\n",
        "    categorias.append(cat)\n",
        "categorias = categorias   # Elimina el script de python\n",
        "\n",
        "print(categorias)\n",
        "\n",
        "# Cuenta la cantidad de imágenes en cada una de las carpetas\n",
        "for cat in categorias:\n",
        "    category_folder = os.listdir(directorio + \"\\\\\" + cat)\n",
        "    count = 0 # Se resetea el contador\n",
        "    for image in category_folder:\n",
        "        # Se toma la extensión del archivo\n",
        "        image_dir = os.path.splitext(directorio + \"\\\\\" + cat+\"\\\\\" + image)\n",
        "        # Si la extensión del archivo no es JPG\n",
        "        if image_dir[1] != extension:\n",
        "            os.remove(directorio + \"\\\\\" + cat+\"\\\\\" + image) # Se elimina\n",
        "        # Aquellas que no son eliminadas se recortan a un tamaño de 100x100 pixeles\n",
        "        else:\n",
        "\n",
        "            image_abrir = Image.open(directorio + \"\\\\\" + cat+\"\\\\\" + image)\n",
        "\n",
        "            # Se toman la dimensiones de las imágenes para cortarlas\n",
        "            width, height = image_abrir.size\n",
        "            left = (width - target_size[0]) // 2\n",
        "            upper = (height - target_size[1]) // 2\n",
        "            right = left + target_size[0]\n",
        "            lower = upper + target_size[1]\n",
        "\n",
        "            # Se recorta la imagen con las indicaciones antes\n",
        "            nueva_imagen = image_abrir.crop((left, upper, right, lower))\n",
        "            # Se elimina la imagen de dimensión 256x256\n",
        "            os.remove(directorio + \"\\\\\" + cat+\"\\\\\" + image)\n",
        "            #carpeta_destino = os.path.join(directorio, cat, nueva_imagen)\n",
        "            #print(cat)\n",
        "            nueva_imagen.save(directorio + \"\\\\\" + cat+\"\\\\\" + image)\n",
        "\n",
        "        count+=1\n",
        "\n",
        "    print(cat, count)  # Se imprime la categoría y la cantidad asociada"
      ],
      "metadata": {
        "id": "yZluQvEkE1Yo"
      },
      "execution_count": null,
      "outputs": []
    },
    {
      "cell_type": "markdown",
      "metadata": {
        "id": "bvtSI7E0C-m5"
      },
      "source": [
        "## Experimento 1"
      ]
    },
    {
      "cell_type": "code",
      "execution_count": null,
      "metadata": {
        "id": "s56wBTOXC-m6",
        "outputId": "75c33c0b-8fa7-4cde-b4fd-18dbff04e12c"
      },
      "outputs": [
        {
          "name": "stdout",
          "output_type": "stream",
          "text": [
            "Main:  healthy\n",
            "Strawberry___healthy\n",
            "Pepper,_bell___healthy\n",
            "Peach___healthy\n",
            "Corn___healthy\n",
            "Apple___healthy\n",
            "Tomato___healthy\n",
            "Grape___healthy\n",
            "Potato___healthy\n",
            "Cherry___healthy\n",
            "Soybean___healthy\n",
            "Blueberry___healthy\n",
            "Raspberry___healthy\n",
            "Main:  unhealthy\n",
            "Apple___Cedar_apple_rust\n",
            "Tomato___Early_blight\n",
            "Grape___Esca_(Black_Measles)\n",
            "Cherry___Powdery_mildew\n",
            "Corn___Northern_Leaf_Blight\n",
            "Corn___Common_rust\n",
            "Tomato___Leaf_Mold\n",
            "Strawberry___Leaf_scorch\n",
            "Tomato___Target_Spot\n",
            "Apple___Apple_scab\n",
            "Grape___Leaf_blight_(Isariopsis_Leaf_Spot)\n",
            "Potato___Early_blight\n",
            "Tomato___Bacterial_spot\n",
            "Apple___Black_rot\n",
            "Tomato___Tomato_Yellow_Leaf_Curl_Virus\n",
            "Tomato___Septoria_leaf_spot\n",
            "Corn___Cercospora_leaf_spot Gray_leaf_spot\n",
            "Tomato___Spider_mites Two-spotted_spider_mite\n",
            "Squash___Powdery_mildew\n",
            "Tomato___Tomato_mosaic_virus\n",
            "Orange___Haunglongbing_(Citrus_greening)\n",
            "Pepper,_bell___Bacterial_spot\n",
            "Grape___Black_rot\n",
            "Tomato___Late_blight\n",
            "Potato___Late_blight\n",
            "Peach___Bacterial_spot\n"
          ]
        }
      ],
      "source": [
        "import os\n",
        "import cv2\n",
        "import numpy as np\n",
        "import torch\n",
        "from torch.utils.data import DataLoader\n",
        "from torchvision.transforms import ToTensor\n",
        "from skimage import io, color, feature\n",
        "from skimage.transform import resize\n",
        "from skimage.measure import regionprops\n",
        "from sklearn.preprocessing import normalize\n",
        "from sklearn.model_selection import train_test_split\n",
        "\n",
        "# Verificar si hay una GPU disponible\n",
        "device = torch.device(\"cuda\" if torch.cuda.is_available() else \"cpu\")\n",
        "\n",
        "# Directorio que contiene las imágenes de las hojas\n",
        "data_dir = 'test'\n",
        "\n",
        "# Lista para almacenar las características y las etiquetas\n",
        "features = []\n",
        "labels = []\n",
        "i = 0\n",
        "# Iterate over the subfolders in the main folder\n",
        "for class_folder in os.listdir(data_dir):\n",
        "    class_path = os.path.join(data_dir, class_folder)\n",
        "    print('Main: ', class_folder)\n",
        "    if os.path.isdir(class_path):\n",
        "        # Iterate over the images in each subfolder\n",
        "        for folder in os.listdir(class_path):\n",
        "            print(folder)\n",
        "            folder_path = os.path.join(class_path, folder)\n",
        "            if os.path.isdir(folder_path):\n",
        "                for image_file in os.listdir(folder_path):\n",
        "                    image_path = os.path.join(folder_path, image_file)\n",
        "                    if image_file.endswith('.JPG'):\n",
        "                        # Load the image and resize it\n",
        "                        image = io.imread(image_path)\n",
        "                        image = resize(image, (256, 256))\n",
        "                        # Normalize pixel values between 0 and 1\n",
        "                        image = image.astype(np.float32) / 255.0\n",
        "                        # Convert the image to grayscale\n",
        "                        gray_image = cv2.cvtColor(image, cv2.COLOR_RGB2GRAY)\n",
        "                        # Add the features and label to the lists\n",
        "                        features.append(gray_image)\n",
        "                        labels.append(i)\n",
        "        i+=1\n",
        "\n",
        "# Convertir las listas en matrices numpy\n",
        "features = np.array(features)\n",
        "labels = np.array(labels)\n",
        "\n",
        "# Normalizar las características\n",
        "features = normalize(features.reshape(features.shape[0], -1))\n",
        "\n",
        "# Convertir las características y las etiquetas a tensores\n",
        "features = torch.tensor(features, dtype=torch.float32)\n",
        "labels = torch.tensor(labels)\n",
        "\n",
        "\n",
        "# Crear un Dataset personalizado\n",
        "class LeafDataset(torch.utils.data.Dataset):\n",
        "    def __init__(self, features, labels, transform=None):\n",
        "        self.features = features\n",
        "        self.labels = labels\n",
        "        self.transform = transform\n",
        "\n",
        "    def __len__(self):\n",
        "        return len(self.features)\n",
        "\n",
        "    def __getitem__(self, idx):\n",
        "        feature = self.features[idx]\n",
        "        label = self.labels[idx]\n",
        "\n",
        "        if self.transform:\n",
        "            feature = self.transform(feature)\n",
        "\n",
        "        return feature, label\n"
      ]
    },
    {
      "cell_type": "markdown",
      "metadata": {
        "id": "fde3mWfHC-m9"
      },
      "source": [
        "## Primera Distribución de Datos"
      ]
    },
    {
      "cell_type": "code",
      "execution_count": null,
      "metadata": {
        "id": "g8Yw4ABmC-m9",
        "outputId": "7fac98f1-9fbe-48e6-eeca-8a91086af2b9"
      },
      "outputs": [
        {
          "name": "stdout",
          "output_type": "stream",
          "text": [
            "65536\n",
            "65536\n"
          ]
        }
      ],
      "source": [
        "\n",
        "# Dividir los datos en conjuntos de entrenamiento y prueba\n",
        "train_features, test_features, train_labels, test_labels = train_test_split(\n",
        "    features, labels, test_size=0.2, random_state=42)\n",
        "\n",
        "# Crear los Dataset correspondientes para entrenamiento y prueba\n",
        "train_dataset = LeafDataset(train_features, train_labels)\n",
        "test_dataset = LeafDataset(test_features, test_labels)\n",
        "print(len(train_dataset[0][0]))\n",
        "print(len(test_dataset[0][0]))\n",
        "# Crear los DataLoader correspondientes para entrenamiento y prueba\n",
        "batch_size = 32\n",
        "train_loader = DataLoader(train_dataset, batch_size=batch_size, shuffle=True)\n",
        "test_loader = DataLoader(test_dataset, batch_size=batch_size)\n",
        "\n",
        "# Guardar las características y las etiquetas en archivos si es necesario\n",
        "#np.save('features.npy', features.numpy())\n",
        "#np.save('labels.npy', labels.numpy())"
      ]
    },
    {
      "cell_type": "code",
      "execution_count": null,
      "metadata": {
        "id": "KQ3a3FIBC-m-"
      },
      "outputs": [],
      "source": [
        "import pandas as pd\n",
        "import matplotlib.pyplot as plt\n",
        "from sklearn.preprocessing import label_binarize, LabelBinarizer, StandardScaler, MinMaxScaler\n",
        "from sklearn.metrics import accuracy_score, precision_score, recall_score, auc, roc_auc_score, roc_curve, f1_score\n",
        "\n",
        "def computeMetrics(y_test, y_pred):\n",
        "    acc = accuracy_score(y_test, y_pred)        # Calcular la exactitud\n",
        "    prec = precision_score(y_test, y_pred)      # Calcular la precisión\n",
        "    rec = recall_score(y_test, y_pred)          # Calcular el recall\n",
        "    f1 = f1_score(y_test, y_pred)               # Calcular F1 score\n",
        "    auc = roc_auc_score(y_test, y_pred)         # Calcular el AUC\n",
        "    # Desplegar métricas\n",
        "    metrics = {\"Accuracy\":acc, \"Precision\":prec, \"Recall\":rec, \"F1 Score\":f1, \"AUC\":auc}\n",
        "    df = pd.DataFrame(metrics, index = [0])\n",
        "    display(df)\n",
        "    # Calcular la curva ROC\n",
        "    fpr, tpr, thresholds = roc_curve(y_test, y_pred) # Compute the ROC curve\n",
        "    plt.plot(fpr, tpr, color='blue', lw=2, label='ROC curve (AUC = %0.2f)' % auc)\n",
        "    plt.plot([0, 1], [0, 1], color='grey', lw=2, linestyle='--')\n",
        "    plt.xlim([0.0, 1.0])\n",
        "    plt.ylim([0.0, 1.05])\n",
        "    plt.xlabel('False Positive Rate')\n",
        "    plt.ylabel('True Positive Rate')\n",
        "    plt.title('ROC curve and AUC')\n",
        "    plt.legend(loc=\"lower right\")\n",
        "    plt.show()\n"
      ]
    },
    {
      "cell_type": "markdown",
      "metadata": {
        "id": "xuelLReRC-m-"
      },
      "source": [
        "### Clasificador sin autoencoder"
      ]
    },
    {
      "cell_type": "code",
      "execution_count": null,
      "metadata": {
        "id": "G-qoEIrzC-m_",
        "outputId": "6c2d3916-9e47-46e8-f49f-562f5593fdad"
      },
      "outputs": [
        {
          "name": "stdout",
          "output_type": "stream",
          "text": [
            "torch.Size([660, 65536])\n",
            "Epoch [1/10], Loss: 1.9338973760604858\n",
            "Epoch [2/10], Loss: 0.49727684259414673\n",
            "Epoch [3/10], Loss: 0.8741753101348877\n",
            "Epoch [4/10], Loss: 0.5323099493980408\n",
            "Epoch [5/10], Loss: 0.5762201547622681\n",
            "Epoch [6/10], Loss: 0.5379816293716431\n",
            "Epoch [7/10], Loss: 0.6185510754585266\n",
            "Epoch [8/10], Loss: 0.584990382194519\n",
            "Epoch [9/10], Loss: 0.5884742140769958\n",
            "Epoch [10/10], Loss: 0.5831071734428406\n"
          ]
        }
      ],
      "source": [
        "import torch\n",
        "import torch.nn as nn\n",
        "import torch.optim as optim\n",
        "from torch.utils.data import DataLoader\n",
        "\n",
        "# Definir la arquitectura del MLP\n",
        "class MLP(nn.Module):\n",
        "    def __init__(self, input_size, hidden_size, output_size):\n",
        "        super(MLP, self).__init__()\n",
        "        self.fc1 = nn.Linear(input_size, hidden_size)\n",
        "        self.fc2 = nn.Linear(hidden_size, output_size)\n",
        "\n",
        "    def forward(self, x):\n",
        "        x = torch.relu(self.fc1(x))\n",
        "        x = self.fc2(x)\n",
        "        return x\n",
        "\n",
        "# Definir los hiperparámetros del MLP\n",
        "input_size = features.shape[1]  # Tamaño de entrada del MLP\n",
        "print(features.shape)\n",
        "hidden_size = 64  # Tamaño de la capa oculta del MLP\n",
        "output_size = len(set(labels))  # Tamaño de salida del MLP (número de clases)\n",
        "\n",
        "# Crear el modelo MLP\n",
        "device = torch.device(\"cuda\" if torch.cuda.is_available() else \"cpu\")\n",
        "mlp = MLP(input_size, hidden_size, output_size)\n",
        "mlp.to(device)  # Mover el modelo a la GPU (si está disponible)\n",
        "\n",
        "# Definir la función de pérdida y el optimizador\n",
        "criterion = nn.CrossEntropyLoss()\n",
        "optimizer = optim.Adam(mlp.parameters(), lr=0.001)\n",
        "\n",
        "# Definir el número de épocas y realizar el entrenamiento\n",
        "num_epochs = 10\n",
        "for epoch in range(num_epochs):\n",
        "    for batch_features, batch_labels in train_loader:\n",
        "        # Mover los datos a la GPU (si está disponible)\n",
        "        batch_features = batch_features.to(device)\n",
        "        batch_labels = batch_labels.to(device)\n",
        "        # Hacer forward pass\n",
        "        outputs = mlp(batch_features)\n",
        "        # Calcular la pérdida\n",
        "        loss = criterion(outputs, batch_labels)\n",
        "        # Realizar backpropagation y actualizar los pesos\n",
        "        optimizer.zero_grad()\n",
        "        loss.backward()\n",
        "        optimizer.step()\n",
        "\n",
        "    # Imprimir el progreso del entrenamiento\n",
        "    print(f'Epoch [{epoch+1}/{num_epochs}], Loss: {loss.item()}')\n",
        "\n",
        "# Guardar el modelo entrenado si es necesario\n",
        "torch.save(mlp.state_dict(), 'mlp_model.pth')\n"
      ]
    },
    {
      "cell_type": "code",
      "execution_count": null,
      "metadata": {
        "id": "aRkEK_SDC-m_",
        "outputId": "0b899122-b06f-4d47-caac-057d5b52e80f"
      },
      "outputs": [
        {
          "name": "stdout",
          "output_type": "stream",
          "text": [
            "Resultados esperados:  tensor([1, 1, 0, 1, 0, 1, 1, 1, 0, 1, 0, 0, 1, 1, 1, 1, 0, 1, 0, 1])\n",
            "Resultados obtenidos:  [1, 1, 1, 1, 1, 1, 1, 1, 0, 1, 1, 1, 1, 1, 1, 1, 1, 1, 1, 1]\n"
          ]
        },
        {
          "data": {
            "text/html": [
              "<div>\n",
              "<style scoped>\n",
              "    .dataframe tbody tr th:only-of-type {\n",
              "        vertical-align: middle;\n",
              "    }\n",
              "\n",
              "    .dataframe tbody tr th {\n",
              "        vertical-align: top;\n",
              "    }\n",
              "\n",
              "    .dataframe thead th {\n",
              "        text-align: right;\n",
              "    }\n",
              "</style>\n",
              "<table border=\"1\" class=\"dataframe\">\n",
              "  <thead>\n",
              "    <tr style=\"text-align: right;\">\n",
              "      <th></th>\n",
              "      <th>Accuracy</th>\n",
              "      <th>Precision</th>\n",
              "      <th>Recall</th>\n",
              "      <th>F1 Score</th>\n",
              "      <th>AUC</th>\n",
              "    </tr>\n",
              "  </thead>\n",
              "  <tbody>\n",
              "    <tr>\n",
              "      <th>0</th>\n",
              "      <td>0.628788</td>\n",
              "      <td>0.632812</td>\n",
              "      <td>0.975904</td>\n",
              "      <td>0.767773</td>\n",
              "      <td>0.50836</td>\n",
              "    </tr>\n",
              "  </tbody>\n",
              "</table>\n",
              "</div>"
            ],
            "text/plain": [
              "   Accuracy  Precision    Recall  F1 Score      AUC\n",
              "0  0.628788   0.632812  0.975904  0.767773  0.50836"
            ]
          },
          "metadata": {},
          "output_type": "display_data"
        },
        {
          "data": {
            "image/png": "[encoded data removed]",
            "text/plain": [
              "<Figure size 640x480 with 1 Axes>"
            ]
          },
          "metadata": {},
          "output_type": "display_data"
        }
      ],
      "source": [
        "import torch\n",
        "from torchvision.transforms import ToTensor\n",
        "import numpy as np\n",
        "\n",
        "# Cargar el modelo entrenado\n",
        "mlp = MLP(input_size, hidden_size, output_size)\n",
        "mlp.load_state_dict(torch.load('mlp_model.pth'))\n",
        "mlp.to(device)  # Mover el modelo a la GPU (si está disponible)\n",
        "mlp.eval()  # Establecer el modo de evaluación\n",
        "\n",
        "# Realizar predicciones en los datos de prueba\n",
        "predictions = []\n",
        "with torch.no_grad():\n",
        "    for batch_features, batch_labels in test_loader:\n",
        "        batch_features = batch_features.to(device)\n",
        "\n",
        "        # Obtener las predicciones del modelo\n",
        "        outputs = mlp(batch_features)\n",
        "        _, predicted = torch.max(outputs.data, 1)\n",
        "\n",
        "        # Guardar las predicciones\n",
        "        predictions.extend(predicted.cpu().numpy())\n",
        "\n",
        "# Calcular la exactitud (accuracy) de las predicciones\n",
        "print('Resultados esperados: ', test_labels[:20])\n",
        "print('Resultados obtenidos: ', predictions[:20])\n",
        "computeMetrics(test_labels, predictions)\n"
      ]
    },
    {
      "cell_type": "markdown",
      "metadata": {
        "id": "_Agu57dBC-nA"
      },
      "source": [
        "### Autoencoder"
      ]
    },
    {
      "cell_type": "code",
      "execution_count": null,
      "metadata": {
        "id": "at2Y-lRpC-nA",
        "outputId": "94715097-cc9c-47f0-8bc8-f0e7f29babf4"
      },
      "outputs": [
        {
          "name": "stdout",
          "output_type": "stream",
          "text": [
            "Epoch [1/4], Loss: 0.0039\n",
            "Epoch [2/4], Loss: 0.0023\n",
            "Epoch [3/4], Loss: 0.0002\n",
            "Epoch [4/4], Loss: 0.0000\n"
          ]
        }
      ],
      "source": [
        "import torch\n",
        "import torch.nn as nn\n",
        "import torch.optim as optim\n",
        "from torch.utils.data import Dataset, DataLoader\n",
        "from torchvision.transforms import ToTensor\n",
        "\n",
        "# Define the autoencoder architecture\n",
        "class Autoencoder(nn.Module):\n",
        "    def __init__(self, input_size, hidden_size):\n",
        "        super(Autoencoder, self).__init__()\n",
        "        self.encoder = nn.Linear(input_size, hidden_size)\n",
        "        self.decoder = nn.Linear(hidden_size, input_size)\n",
        "\n",
        "    def forward(self, x):\n",
        "        encoded = self.encoder(x)\n",
        "        decoded = self.decoder(encoded)\n",
        "        return decoded\n",
        "\n",
        "# Instantiate the autoencoder and define the loss function and optimizer\n",
        "input_size = 65536\n",
        "hidden_size = 64\n",
        "autoencoder = Autoencoder(input_size, hidden_size)\n",
        "criterion = nn.MSELoss()\n",
        "optimizer = optim.Adam(autoencoder.parameters(), lr=0.001)\n",
        "\n",
        "# Train the autoencoder\n",
        "num_epochs = 4\n",
        "for epoch in range(num_epochs):\n",
        "    for batch_features, _ in train_loader:\n",
        "        # Forward pass\n",
        "        outputs = autoencoder(batch_features)\n",
        "        # Compute the loss\n",
        "        loss = criterion(outputs, batch_features)\n",
        "        # Backward pass and optimization\n",
        "        optimizer.zero_grad()\n",
        "        loss.backward()\n",
        "        optimizer.step()\n",
        "\n",
        "    # Print the loss for tracking training progress\n",
        "    print(f\"Epoch [{epoch+1}/{num_epochs}], Loss: {loss.item():.4f}\")\n",
        "\n",
        "# Encode the data using the autoencoder\n",
        "encoded_data = []\n",
        "for batch_features, _ in train_loader:\n",
        "    encoded_batch = autoencoder.encoder(batch_features)\n",
        "    encoded_data.append(encoded_batch)\n",
        "\n",
        "# Concatenate the encoded data from different batches\n",
        "encoded_data = torch.cat(encoded_data, dim=0)\n"
      ]
    },
    {
      "cell_type": "code",
      "execution_count": null,
      "metadata": {
        "id": "a7j3M9M7C-nB",
        "outputId": "a3c9ac38-fff9-4e41-fce5-836aa581da21"
      },
      "outputs": [
        {
          "name": "stdout",
          "output_type": "stream",
          "text": [
            "Epoch: 1, Loss: 0.6264\n",
            "Epoch: 2, Loss: 0.6207\n",
            "Epoch: 3, Loss: 0.7754\n",
            "Epoch: 4, Loss: 0.6244\n",
            "Epoch: 5, Loss: 0.6648\n",
            "Epoch: 6, Loss: 0.7132\n",
            "Epoch: 7, Loss: 0.6690\n",
            "Epoch: 8, Loss: 0.7118\n",
            "Epoch: 9, Loss: 0.5341\n",
            "Epoch: 10, Loss: 0.7117\n",
            "Resultados esperados:  tensor([1, 1, 0, 1, 0, 1, 1, 1, 0, 1, 0, 0, 1, 1, 1, 1, 0, 1, 0, 1, 1, 1, 1, 1,\n",
            "        1, 1, 1, 0, 1, 1, 0, 1, 1, 0, 0, 1, 1, 1, 0, 0, 1, 1, 0, 1, 1, 0, 1, 0,\n",
            "        0, 1, 1, 1, 0, 1, 1, 0, 1, 1, 0, 1, 1, 0, 0, 1, 1, 1, 1, 0, 0, 0, 0, 0,\n",
            "        1, 0, 0, 1, 1, 0, 1, 1, 1, 0, 0, 1, 0, 1, 1, 0, 0, 1, 0, 1, 1, 1, 0, 1,\n",
            "        1, 1, 1, 0, 1, 1, 1, 1, 0, 1, 0, 1, 1, 0, 1, 1, 1, 0, 0, 1, 0, 0, 1, 0,\n",
            "        1, 1, 0, 1, 0, 1, 1, 0, 1, 1, 1, 1])\n",
            "Resultados obtenidos:  tensor([1, 1, 1, 1, 1, 1, 1, 1, 1, 1, 1, 1, 1, 1, 1, 1, 1, 1, 1, 1, 1, 1, 1, 1,\n",
            "        1, 1, 1, 1, 1, 1, 1, 1, 1, 1, 1, 1, 1, 1, 1, 1, 1, 1, 1, 1, 1, 1, 1, 1,\n",
            "        1, 1, 1, 1, 1, 1, 1, 1, 1, 1, 1, 1, 1, 1, 1, 1, 1, 1, 1, 1, 1, 1, 1, 1,\n",
            "        1, 1, 1, 1, 1, 1, 1, 1, 1, 1, 1, 1, 1, 1, 1, 1, 1, 1, 1, 1, 1, 1, 1, 1,\n",
            "        1, 1, 1, 1, 1, 1, 1, 1, 1, 1, 1, 1, 1, 1, 1, 1, 1, 1, 1, 1, 1, 1, 1, 1,\n",
            "        1, 1, 1, 1, 1, 1, 1, 1, 1, 1, 1, 1, 1, 1, 1, 1, 1, 1, 1, 1, 1, 1, 1, 1,\n",
            "        1, 1, 1, 1, 1, 1, 1, 1, 1, 1, 1, 1, 1, 1, 1, 1, 1, 1, 1, 1, 1, 1, 1, 1,\n",
            "        1, 1, 1, 1, 1, 1, 1, 1, 1, 1, 1, 1, 1, 1, 1, 1, 1, 1, 1, 1, 1, 1, 1, 1,\n",
            "        1, 1, 1, 1, 1, 1, 1, 1, 1, 1, 1, 1, 1, 1, 1, 1, 1, 1, 1, 1, 1, 1, 1, 1,\n",
            "        1, 1, 1, 1, 1, 1, 1, 1, 1, 1, 1, 1, 1, 1, 1, 1, 1, 1, 1, 1, 1, 1, 1, 1,\n",
            "        1, 1, 1, 1, 1, 1, 1, 1, 1, 1, 1, 1, 1, 1, 1, 1, 1, 1, 1, 1, 1, 1, 1, 1,\n",
            "        1, 1, 1, 1, 1, 1, 1, 1, 1, 1, 1, 1, 1, 1, 1, 1, 1, 1, 1, 1, 1, 1, 1, 1,\n",
            "        1, 1, 1, 1, 1, 1, 1, 1, 1, 1, 1, 1, 1, 1, 1, 1, 1, 1, 1, 1, 1, 1, 1, 1,\n",
            "        1, 1, 1, 1, 1, 1, 1, 1, 1, 1, 1, 1, 1, 1, 1, 1, 1, 1, 1, 1, 1, 1, 1, 1,\n",
            "        1, 1, 1, 1, 1, 1, 1, 1, 1, 1, 1, 1, 1, 1, 1, 1, 1, 1, 1, 1, 1, 1, 1, 1,\n",
            "        1, 1, 1, 1, 1, 1, 1, 1, 1, 1, 1, 1, 1, 1, 1, 1, 1, 1, 1, 1, 1, 1, 1, 1,\n",
            "        1, 1, 1, 1, 1, 1, 1, 1, 1, 1, 1, 1, 1, 1, 1, 1, 1, 1, 1, 1, 1, 1, 1, 1,\n",
            "        1, 1, 1, 1, 1, 1, 1, 1, 1, 1, 1, 1, 1, 1, 1, 1, 1, 1, 1, 1, 1, 1, 1, 1,\n",
            "        1, 1, 1, 1, 1, 1, 1, 1, 1, 1, 1, 1, 1, 1, 1, 1, 1, 1, 1, 1, 1, 1, 1, 1,\n",
            "        1, 1, 1, 1, 1, 1, 1, 1, 1, 1, 1, 1, 1, 1, 1, 1, 1, 1, 1, 1, 1, 1, 1, 1,\n",
            "        1, 1, 1, 1, 1, 1, 1, 1, 1, 1, 1, 1, 1, 1, 1, 1, 1, 1, 1, 1, 1, 1, 1, 1,\n",
            "        1, 1, 1, 1, 1, 1, 1, 1, 1, 1, 1, 1, 1, 1, 1, 1, 1, 1, 1, 1, 1, 1, 1, 1])\n"
          ]
        },
        {
          "ename": "ValueError",
          "evalue": "Found input variables with inconsistent numbers of samples: [132, 528]",
          "output_type": "error",
          "traceback": [
            "\u001b[0;31m---------------------------------------------------------------------------\u001b[0m",
            "\u001b[0;31mValueError\u001b[0m                                Traceback (most recent call last)",
            "Cell \u001b[0;32mIn[99], line 36\u001b[0m\n\u001b[1;32m     34\u001b[0m \u001b[39mprint\u001b[39m(\u001b[39m'\u001b[39m\u001b[39mResultados esperados: \u001b[39m\u001b[39m'\u001b[39m, test_labels)\n\u001b[1;32m     35\u001b[0m \u001b[39mprint\u001b[39m(\u001b[39m'\u001b[39m\u001b[39mResultados obtenidos: \u001b[39m\u001b[39m'\u001b[39m, predicted_labels)\n\u001b[0;32m---> 36\u001b[0m computeMetrics(test_labels, predicted_labels)\n",
            "Cell \u001b[0;32mIn[44], line 7\u001b[0m, in \u001b[0;36mcomputeMetrics\u001b[0;34m(y_test, y_pred)\u001b[0m\n\u001b[1;32m      6\u001b[0m \u001b[39mdef\u001b[39;00m \u001b[39mcomputeMetrics\u001b[39m(y_test, y_pred):\n\u001b[0;32m----> 7\u001b[0m     acc \u001b[39m=\u001b[39m accuracy_score(y_test, y_pred)        \u001b[39m# Calcular la exactitud   \u001b[39;00m\n\u001b[1;32m      8\u001b[0m     prec \u001b[39m=\u001b[39m precision_score(y_test, y_pred)      \u001b[39m# Calcular la precisión    \u001b[39;00m\n\u001b[1;32m      9\u001b[0m     rec \u001b[39m=\u001b[39m recall_score(y_test, y_pred)          \u001b[39m# Calcular el recall\u001b[39;00m\n",
            "File \u001b[0;32m~/.local/lib/python3.10/site-packages/sklearn/utils/_param_validation.py:192\u001b[0m, in \u001b[0;36mvalidate_params.<locals>.decorator.<locals>.wrapper\u001b[0;34m(*args, **kwargs)\u001b[0m\n\u001b[1;32m    187\u001b[0m validate_parameter_constraints(\n\u001b[1;32m    188\u001b[0m     parameter_constraints, params, caller_name\u001b[39m=\u001b[39mfunc\u001b[39m.\u001b[39m\u001b[39m__qualname__\u001b[39m\n\u001b[1;32m    189\u001b[0m )\n\u001b[1;32m    191\u001b[0m \u001b[39mtry\u001b[39;00m:\n\u001b[0;32m--> 192\u001b[0m     \u001b[39mreturn\u001b[39;00m func(\u001b[39m*\u001b[39;49margs, \u001b[39m*\u001b[39;49m\u001b[39m*\u001b[39;49mkwargs)\n\u001b[1;32m    193\u001b[0m \u001b[39mexcept\u001b[39;00m InvalidParameterError \u001b[39mas\u001b[39;00m e:\n\u001b[1;32m    194\u001b[0m     \u001b[39m# When the function is just a wrapper around an estimator, we allow\u001b[39;00m\n\u001b[1;32m    195\u001b[0m     \u001b[39m# the function to delegate validation to the estimator, but we replace\u001b[39;00m\n\u001b[1;32m    196\u001b[0m     \u001b[39m# the name of the estimator by the name of the function in the error\u001b[39;00m\n\u001b[1;32m    197\u001b[0m     \u001b[39m# message to avoid confusion.\u001b[39;00m\n\u001b[1;32m    198\u001b[0m     msg \u001b[39m=\u001b[39m re\u001b[39m.\u001b[39msub(\n\u001b[1;32m    199\u001b[0m         \u001b[39mr\u001b[39m\u001b[39m\"\u001b[39m\u001b[39mparameter of \u001b[39m\u001b[39m\\\u001b[39m\u001b[39mw+ must be\u001b[39m\u001b[39m\"\u001b[39m,\n\u001b[1;32m    200\u001b[0m         \u001b[39mf\u001b[39m\u001b[39m\"\u001b[39m\u001b[39mparameter of \u001b[39m\u001b[39m{\u001b[39;00mfunc\u001b[39m.\u001b[39m\u001b[39m__qualname__\u001b[39m\u001b[39m}\u001b[39;00m\u001b[39m must be\u001b[39m\u001b[39m\"\u001b[39m,\n\u001b[1;32m    201\u001b[0m         \u001b[39mstr\u001b[39m(e),\n\u001b[1;32m    202\u001b[0m     )\n",
            "File \u001b[0;32m~/.local/lib/python3.10/site-packages/sklearn/metrics/_classification.py:221\u001b[0m, in \u001b[0;36maccuracy_score\u001b[0;34m(y_true, y_pred, normalize, sample_weight)\u001b[0m\n\u001b[1;32m    155\u001b[0m \u001b[39m\u001b[39m\u001b[39m\"\"\"Accuracy classification score.\u001b[39;00m\n\u001b[1;32m    156\u001b[0m \n\u001b[1;32m    157\u001b[0m \u001b[39mIn multilabel classification, this function computes subset accuracy:\u001b[39;00m\n\u001b[0;32m   (...)\u001b[0m\n\u001b[1;32m    217\u001b[0m \u001b[39m0.5\u001b[39;00m\n\u001b[1;32m    218\u001b[0m \u001b[39m\"\"\"\u001b[39;00m\n\u001b[1;32m    220\u001b[0m \u001b[39m# Compute accuracy for each possible representation\u001b[39;00m\n\u001b[0;32m--> 221\u001b[0m y_type, y_true, y_pred \u001b[39m=\u001b[39m _check_targets(y_true, y_pred)\n\u001b[1;32m    222\u001b[0m check_consistent_length(y_true, y_pred, sample_weight)\n\u001b[1;32m    223\u001b[0m \u001b[39mif\u001b[39;00m y_type\u001b[39m.\u001b[39mstartswith(\u001b[39m\"\u001b[39m\u001b[39mmultilabel\u001b[39m\u001b[39m\"\u001b[39m):\n",
            "File \u001b[0;32m~/.local/lib/python3.10/site-packages/sklearn/metrics/_classification.py:86\u001b[0m, in \u001b[0;36m_check_targets\u001b[0;34m(y_true, y_pred)\u001b[0m\n\u001b[1;32m     59\u001b[0m \u001b[39mdef\u001b[39;00m \u001b[39m_check_targets\u001b[39m(y_true, y_pred):\n\u001b[1;32m     60\u001b[0m \u001b[39m    \u001b[39m\u001b[39m\"\"\"Check that y_true and y_pred belong to the same classification task.\u001b[39;00m\n\u001b[1;32m     61\u001b[0m \n\u001b[1;32m     62\u001b[0m \u001b[39m    This converts multiclass or binary types to a common shape, and raises a\u001b[39;00m\n\u001b[0;32m   (...)\u001b[0m\n\u001b[1;32m     84\u001b[0m \u001b[39m    y_pred : array or indicator matrix\u001b[39;00m\n\u001b[1;32m     85\u001b[0m \u001b[39m    \"\"\"\u001b[39;00m\n\u001b[0;32m---> 86\u001b[0m     check_consistent_length(y_true, y_pred)\n\u001b[1;32m     87\u001b[0m     type_true \u001b[39m=\u001b[39m type_of_target(y_true, input_name\u001b[39m=\u001b[39m\u001b[39m\"\u001b[39m\u001b[39my_true\u001b[39m\u001b[39m\"\u001b[39m)\n\u001b[1;32m     88\u001b[0m     type_pred \u001b[39m=\u001b[39m type_of_target(y_pred, input_name\u001b[39m=\u001b[39m\u001b[39m\"\u001b[39m\u001b[39my_pred\u001b[39m\u001b[39m\"\u001b[39m)\n",
            "File \u001b[0;32m~/.local/lib/python3.10/site-packages/sklearn/utils/validation.py:397\u001b[0m, in \u001b[0;36mcheck_consistent_length\u001b[0;34m(*arrays)\u001b[0m\n\u001b[1;32m    395\u001b[0m uniques \u001b[39m=\u001b[39m np\u001b[39m.\u001b[39munique(lengths)\n\u001b[1;32m    396\u001b[0m \u001b[39mif\u001b[39;00m \u001b[39mlen\u001b[39m(uniques) \u001b[39m>\u001b[39m \u001b[39m1\u001b[39m:\n\u001b[0;32m--> 397\u001b[0m     \u001b[39mraise\u001b[39;00m \u001b[39mValueError\u001b[39;00m(\n\u001b[1;32m    398\u001b[0m         \u001b[39m\"\u001b[39m\u001b[39mFound input variables with inconsistent numbers of samples: \u001b[39m\u001b[39m%r\u001b[39;00m\u001b[39m\"\u001b[39m\n\u001b[1;32m    399\u001b[0m         \u001b[39m%\u001b[39m [\u001b[39mint\u001b[39m(l) \u001b[39mfor\u001b[39;00m l \u001b[39min\u001b[39;00m lengths]\n\u001b[1;32m    400\u001b[0m     )\n",
            "\u001b[0;31mValueError\u001b[0m: Found input variables with inconsistent numbers of samples: [132, 528]"
          ]
        }
      ],
      "source": [
        "import torch\n",
        "from torchvision.transforms import ToTensor\n",
        "import numpy as np\n",
        "\n",
        "# Cargar el modelo entrenado\n",
        "mlp = MLP(len(encoded_data[0]), 64, 2)\n",
        "mlp.to(device)  # Mover el modelo a la GPU (si está disponible)\n",
        "mlp.eval()  # Establecer el modo de evaluación\n",
        "\n",
        "# Define the loss function and optimizer\n",
        "criterion = nn.CrossEntropyLoss()\n",
        "optimizer = optim.Adam(mlp.parameters(), lr=0.001)\n",
        "\n",
        "# Train the MLP using your labeled data\n",
        "num_epochs = 10\n",
        "for epoch in range(num_epochs):\n",
        "    for data, labels in train_loader:\n",
        "        optimizer.zero_grad()\n",
        "        images_flatten = data.view(data.size(0), -1)\n",
        "        latent_vectors = autoencoder.encoder(images_flatten)  # Get latent vectors from autoencoder\n",
        "        outputs = mlp(latent_vectors)\n",
        "        loss = criterion(outputs, labels)\n",
        "        loss.backward()\n",
        "        optimizer.step()\n",
        "    # Print epoch number and loss\n",
        "    print(f\"Epoch: {epoch+1}, Loss: {loss.item():.4f}\")\n",
        "\n",
        "# Pass the encoded data through the MLP\n",
        "predictions = mlp(encoded_data)\n",
        "# Get the predicted class labels\n",
        "_, predicted_labels = torch.max(predictions, dim=1)\n",
        "\n",
        "# Calcular la exactitud (accuracy) de las predicciones\n",
        "print('Resultados esperados: ', test_labels)\n",
        "print('Resultados obtenidos: ', predicted_labels)\n",
        "computeMetrics(test_labels, predicted_labels)\n"
      ]
    },
    {
      "cell_type": "code",
      "execution_count": null,
      "metadata": {
        "id": "DsA8-iifC-nB"
      },
      "outputs": [],
      "source": []
    }
  ],
  "metadata": {
    "colab": {
      "provenance": [],
      "toc_visible": true,
      "include_colab_link": true
    },
    "kernelspec": {
      "display_name": "Python 3",
      "language": "python",
      "name": "python3"
    },
    "language_info": {
      "codemirror_mode": {
        "name": "ipython",
        "version": 3
      },
      "file_extension": ".py",
      "mimetype": "text/x-python",
      "name": "python",
      "nbconvert_exporter": "python",
      "pygments_lexer": "ipython3",
      "version": "3.10.8 (main, Nov  1 2022, 14:18:21) [GCC 12.2.0]"
    },
    "vscode": {
      "interpreter": {
        "hash": "e7370f93d1d0cde622a1f8e1c04877d8463912d04d973331ad4851f04de6915a"
      }
    }
  },
  "nbformat": 4,
  "nbformat_minor": 0
}