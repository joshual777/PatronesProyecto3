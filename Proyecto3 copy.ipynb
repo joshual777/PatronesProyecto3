{
  "cells": [
    {
      "cell_type": "markdown",
      "metadata": {
        "colab_type": "text",
        "id": "view-in-github"
      },
      "source": [
        "<a href=\"https://colab.research.google.com/github/joshual777/PatronesProyecto3/blob/main/Proyecto3.ipynb\" target=\"_parent\"><img src=\"https://colab.research.google.com/assets/colab-badge.svg\" alt=\"Open In Colab\"/></a>"
      ]
    },
    {
      "cell_type": "markdown",
      "metadata": {
        "id": "fmgK_N7uRkVP"
      },
      "source": [
        "# **Proyecto 3 Aprendizaje no supervisado**\n",
        "\n",
        "Integrantes: \\\n",
        "Jose Jualian Camacho Hernandez \\\n",
        "Leonardo Guillén Fernandez \\\n",
        "Joshua Guzmán Quesada"
      ]
    },
    {
      "cell_type": "markdown",
      "metadata": {},
      "source": [
        "## Experimento 1"
      ]
    },
    {
      "cell_type": "code",
      "execution_count": 2,
      "metadata": {},
      "outputs": [
        {
          "name": "stdout",
          "output_type": "stream",
          "text": [
            "Main:  healthy\n",
            "Strawberry___healthy\n",
            "Pepper,_bell___healthy\n",
            "Peach___healthy\n",
            "Corn___healthy\n",
            "Apple___healthy\n",
            "Tomato___healthy\n",
            "Grape___healthy\n",
            "Potato___healthy\n",
            "Cherry___healthy\n",
            "Soybean___healthy\n",
            "Blueberry___healthy\n",
            "Raspberry___healthy\n",
            "Main:  unhealthy\n",
            "Apple___Cedar_apple_rust\n",
            "Tomato___Early_blight\n",
            "Grape___Esca_(Black_Measles)\n",
            "Cherry___Powdery_mildew\n",
            "Corn___Northern_Leaf_Blight\n",
            "Corn___Common_rust\n",
            "Tomato___Leaf_Mold\n",
            "Strawberry___Leaf_scorch\n",
            "Tomato___Target_Spot\n",
            "Apple___Apple_scab\n",
            "Grape___Leaf_blight_(Isariopsis_Leaf_Spot)\n",
            "Potato___Early_blight\n",
            "Tomato___Bacterial_spot\n",
            "Apple___Black_rot\n",
            "Tomato___Tomato_Yellow_Leaf_Curl_Virus\n",
            "Tomato___Septoria_leaf_spot\n",
            "Corn___Cercospora_leaf_spot Gray_leaf_spot\n",
            "Tomato___Spider_mites Two-spotted_spider_mite\n",
            "Squash___Powdery_mildew\n",
            "Tomato___Tomato_mosaic_virus\n",
            "Orange___Haunglongbing_(Citrus_greening)\n",
            "Pepper,_bell___Bacterial_spot\n",
            "Grape___Black_rot\n",
            "Tomato___Late_blight\n",
            "Potato___Late_blight\n",
            "Peach___Bacterial_spot\n"
          ]
        }
      ],
      "source": [
        "import os\n",
        "import cv2\n",
        "import numpy as np\n",
        "import torch\n",
        "from torch.utils.data import DataLoader\n",
        "from torchvision.transforms import ToTensor\n",
        "from skimage import io, color, feature\n",
        "from skimage.transform import resize\n",
        "from skimage.measure import regionprops\n",
        "from sklearn.preprocessing import normalize\n",
        "from sklearn.model_selection import train_test_split\n",
        "\n",
        "# Verificar si hay una GPU disponible\n",
        "device = torch.device(\"cuda\" if torch.cuda.is_available() else \"cpu\")\n",
        "\n",
        "# Directorio que contiene las imágenes de las hojas\n",
        "data_dir = 'test'\n",
        "\n",
        "# Lista para almacenar las características y las etiquetas\n",
        "features = []\n",
        "labels = []\n",
        "i = 0\n",
        "# Iterate over the subfolders in the main folder\n",
        "for class_folder in os.listdir(data_dir):\n",
        "    class_path = os.path.join(data_dir, class_folder)\n",
        "    print('Main: ', class_folder)\n",
        "    if os.path.isdir(class_path):\n",
        "        # Iterate over the images in each subfolder\n",
        "        for folder in os.listdir(class_path):\n",
        "            print(folder)\n",
        "            folder_path = os.path.join(class_path, folder)\n",
        "            if os.path.isdir(folder_path):\n",
        "                for image_file in os.listdir(folder_path):\n",
        "                    image_path = os.path.join(folder_path, image_file)\n",
        "                    if image_file.endswith('.JPG'):\n",
        "                        # Load the image and resize it\n",
        "                        image = io.imread(image_path)\n",
        "                        image = resize(image, (256, 256))\n",
        "                        # Normalize pixel values between 0 and 1\n",
        "                        image = image.astype(np.float32) / 255.0\n",
        "                        # Convert the image to grayscale\n",
        "                        gray_image = cv2.cvtColor(image, cv2.COLOR_RGB2GRAY)\n",
        "                        # Add the features and label to the lists\n",
        "                        features.append(gray_image)\n",
        "                        labels.append(i)\n",
        "        i+=1\n",
        "\n",
        "# Convertir las listas en matrices numpy\n",
        "features = np.array(features)\n",
        "labels = np.array(labels)\n",
        "\n",
        "# Normalizar las características\n",
        "features = normalize(features.reshape(features.shape[0], -1))\n",
        "\n",
        "# Convertir las características y las etiquetas a tensores\n",
        "features = torch.tensor(features, dtype=torch.float32)\n",
        "labels = torch.tensor(labels)"
      ]
    },
    {
      "cell_type": "code",
      "execution_count": 3,
      "metadata": {},
      "outputs": [],
      "source": [
        "# Dividir los datos en conjuntos de entrenamiento y prueba\n",
        "train_features, test_features, train_labels, test_labels = train_test_split(\n",
        "    features, labels, test_size=0.2, random_state=42)\n",
        "\n",
        "# Convert PyTorch tensors to NumPy arrays\n",
        "train_features = train_features.numpy()\n",
        "test_features = test_features.numpy()\n",
        "train_labels = train_labels.numpy()\n",
        "test_labels = test_labels.numpy()"
      ]
    },
    {
      "cell_type": "markdown",
      "metadata": {},
      "source": [
        "## Primera Distribución de Datos"
      ]
    },
    {
      "cell_type": "code",
      "execution_count": 4,
      "metadata": {},
      "outputs": [],
      "source": [
        "import pandas as pd\n",
        "import matplotlib.pyplot as plt\n",
        "from sklearn.preprocessing import label_binarize, LabelBinarizer, StandardScaler, MinMaxScaler\n",
        "from sklearn.metrics import accuracy_score, precision_score, recall_score, auc, roc_auc_score, roc_curve, f1_score\n",
        "\n",
        "def computeMetrics(y_test, y_pred):\n",
        "    acc = accuracy_score(y_test, y_pred)        # Calcular la exactitud   \n",
        "    prec = precision_score(y_test, y_pred)      # Calcular la precisión    \n",
        "    rec = recall_score(y_test, y_pred)          # Calcular el recall\n",
        "    f1 = f1_score(y_test, y_pred)               # Calcular F1 score\n",
        "    auc = roc_auc_score(y_test, y_pred)         # Calcular el AUC\n",
        "    # Desplegar métricas\n",
        "    metrics = {\"Accuracy\":acc, \"Precision\":prec, \"Recall\":rec, \"F1 Score\":f1, \"AUC\":auc}\n",
        "    df = pd.DataFrame(metrics, index = [0])\n",
        "    display(df)\n",
        "    # Calcular la curva ROC\n",
        "    fpr, tpr, thresholds = roc_curve(y_test, y_pred) # Compute the ROC curve\n",
        "    plt.plot(fpr, tpr, color='blue', lw=2, label='ROC curve (AUC = %0.2f)' % auc)\n",
        "    plt.plot([0, 1], [0, 1], color='grey', lw=2, linestyle='--')\n",
        "    plt.xlim([0.0, 1.0])\n",
        "    plt.ylim([0.0, 1.05])\n",
        "    plt.xlabel('False Positive Rate')\n",
        "    plt.ylabel('True Positive Rate')\n",
        "    plt.title('ROC curve and AUC')\n",
        "    plt.legend(loc=\"lower right\")\n",
        "    plt.show()\n"
      ]
    },
    {
      "cell_type": "markdown",
      "metadata": {},
      "source": [
        "### Clasificador sin autoencoder"
      ]
    },
    {
      "cell_type": "markdown",
      "metadata": {},
      "source": [
        "#### Conjunto de Training"
      ]
    },
    {
      "cell_type": "code",
      "execution_count": 5,
      "metadata": {},
      "outputs": [
        {
          "name": "stderr",
          "output_type": "stream",
          "text": [
            "2023-06-09 21:48:45.347462: I tensorflow/core/platform/cpu_feature_guard.cc:182] This TensorFlow binary is optimized to use available CPU instructions in performance-critical operations.\n",
            "To enable the following instructions: AVX2 FMA, in other operations, rebuild TensorFlow with the appropriate compiler flags.\n",
            "2023-06-09 21:48:50.506887: W tensorflow/compiler/tf2tensorrt/utils/py_utils.cc:38] TF-TRT Warning: Could not find TensorRT\n"
          ]
        },
        {
          "name": "stdout",
          "output_type": "stream",
          "text": [
            "Epoch 1/10\n",
            "17/17 [==============================] - 3s 78ms/step - loss: 0.6574 - accuracy: 0.6761\n",
            "Epoch 2/10\n",
            "17/17 [==============================] - 1s 70ms/step - loss: 0.6200 - accuracy: 0.6761\n",
            "Epoch 3/10\n",
            "17/17 [==============================] - 1s 69ms/step - loss: 0.6098 - accuracy: 0.6761\n",
            "Epoch 4/10\n",
            "17/17 [==============================] - 1s 70ms/step - loss: 0.6184 - accuracy: 0.6761\n",
            "Epoch 5/10\n",
            "17/17 [==============================] - 1s 73ms/step - loss: 0.6234 - accuracy: 0.6761\n",
            "Epoch 6/10\n",
            "17/17 [==============================] - 1s 69ms/step - loss: 0.5963 - accuracy: 0.6761\n",
            "Epoch 7/10\n",
            "17/17 [==============================] - 1s 69ms/step - loss: 0.5902 - accuracy: 0.6761\n",
            "Epoch 8/10\n",
            "17/17 [==============================] - 1s 71ms/step - loss: 0.5853 - accuracy: 0.6761\n",
            "Epoch 9/10\n",
            "17/17 [==============================] - 1s 70ms/step - loss: 0.5780 - accuracy: 0.6780\n",
            "Epoch 10/10\n",
            "17/17 [==============================] - 1s 66ms/step - loss: 0.5716 - accuracy: 0.6761\n",
            "5/5 [==============================] - 0s 6ms/step - loss: 0.6107 - accuracy: 0.6288\n",
            "Test Loss: 0.6106576323509216\n",
            "Test Accuracy: 0.6287878751754761\n",
            "5/5 [==============================] - 0s 5ms/step\n",
            "Resultados esperados:  [1 1 0 1 0 1 1 1 0 1 0 0 1 1 1 1 0 1 0 1]\n",
            "Resultados obtenidos:  [[1]\n",
            " [1]\n",
            " [1]\n",
            " [1]\n",
            " [1]\n",
            " [1]\n",
            " [1]\n",
            " [1]\n",
            " [1]\n",
            " [1]\n",
            " [1]\n",
            " [1]\n",
            " [1]\n",
            " [1]\n",
            " [1]\n",
            " [1]\n",
            " [1]\n",
            " [1]\n",
            " [1]\n",
            " [1]]\n"
          ]
        },
        {
          "data": {
            "text/html": [
              "<div>\n",
              "<style scoped>\n",
              "    .dataframe tbody tr th:only-of-type {\n",
              "        vertical-align: middle;\n",
              "    }\n",
              "\n",
              "    .dataframe tbody tr th {\n",
              "        vertical-align: top;\n",
              "    }\n",
              "\n",
              "    .dataframe thead th {\n",
              "        text-align: right;\n",
              "    }\n",
              "</style>\n",
              "<table border=\"1\" class=\"dataframe\">\n",
              "  <thead>\n",
              "    <tr style=\"text-align: right;\">\n",
              "      <th></th>\n",
              "      <th>Accuracy</th>\n",
              "      <th>Precision</th>\n",
              "      <th>Recall</th>\n",
              "      <th>F1 Score</th>\n",
              "      <th>AUC</th>\n",
              "    </tr>\n",
              "  </thead>\n",
              "  <tbody>\n",
              "    <tr>\n",
              "      <th>0</th>\n",
              "      <td>0.628788</td>\n",
              "      <td>0.628788</td>\n",
              "      <td>1.0</td>\n",
              "      <td>0.772093</td>\n",
              "      <td>0.5</td>\n",
              "    </tr>\n",
              "  </tbody>\n",
              "</table>\n",
              "</div>"
            ],
            "text/plain": [
              "   Accuracy  Precision  Recall  F1 Score  AUC\n",
              "0  0.628788   0.628788     1.0  0.772093  0.5"
            ]
          },
          "metadata": {},
          "output_type": "display_data"
        },
        {
          "data": {
            "image/png": "[encoded data removed]",
            "text/plain": [
              "<Figure size 640x480 with 1 Axes>"
            ]
          },
          "metadata": {},
          "output_type": "display_data"
        }
      ],
      "source": [
        "import tensorflow as tf\n",
        "from tensorflow import keras\n",
        "from sklearn.model_selection import train_test_split\n",
        "from torch.utils.data import DataLoader\n",
        "\n",
        "# Define the MLP model\n",
        "model = keras.Sequential([\n",
        "    keras.layers.Dense(64, activation='relu', input_dim=65536),\n",
        "    keras.layers.Dense(32, activation='relu'),\n",
        "    keras.layers.Dense(1, activation='sigmoid')\n",
        "])\n",
        "# Compile the model\n",
        "model.compile(optimizer='adam', loss='binary_crossentropy', metrics=['accuracy'])\n",
        "# Define batch size\n",
        "batch_size = 32\n",
        "# Train the model with batches\n",
        "epochs = 10\n",
        "model.fit(train_features, train_labels, batch_size=batch_size, epochs=epochs)\n",
        "# Evaluate the model with batches\n",
        "loss, accuracy = model.evaluate(test_features, test_labels, batch_size=batch_size)\n",
        "print(\"Test Loss:\", loss)\n",
        "print(\"Test Accuracy:\", accuracy)\n",
        "# Make predictions\n",
        "predictions = model.predict(test_features, batch_size=batch_size)\n",
        "predictions = (predictions > 0.5).astype(int)\n",
        "# Compute metrics\n",
        "print('Resultados esperados: ', test_labels[:20])\n",
        "print('Resultados obtenidos: ', predictions[:20])\n",
        "computeMetrics(test_labels, predictions)\n"
      ]
    },
    {
      "cell_type": "markdown",
      "metadata": {},
      "source": [
        "#### Conjunto de Testing"
      ]
    },
    {
      "cell_type": "code",
      "execution_count": 6,
      "metadata": {},
      "outputs": [
        {
          "name": "stdout",
          "output_type": "stream",
          "text": [
            "Epoch 1/10\n",
            "5/5 [==============================] - 1s 69ms/step - loss: 0.6368 - accuracy: 0.6288\n",
            "Epoch 2/10\n",
            "5/5 [==============================] - 0s 70ms/step - loss: 0.6111 - accuracy: 0.6288\n",
            "Epoch 3/10\n",
            "5/5 [==============================] - 0s 67ms/step - loss: 0.6332 - accuracy: 0.6288\n",
            "Epoch 4/10\n",
            "5/5 [==============================] - 0s 71ms/step - loss: 0.6232 - accuracy: 0.6288\n",
            "Epoch 5/10\n",
            "5/5 [==============================] - 0s 79ms/step - loss: 0.6213 - accuracy: 0.6288\n",
            "Epoch 6/10\n",
            "5/5 [==============================] - 0s 71ms/step - loss: 0.6078 - accuracy: 0.6288\n",
            "Epoch 7/10\n",
            "5/5 [==============================] - 0s 65ms/step - loss: 0.6055 - accuracy: 0.6288\n",
            "Epoch 8/10\n",
            "5/5 [==============================] - 0s 68ms/step - loss: 0.6164 - accuracy: 0.6288\n",
            "Epoch 9/10\n",
            "5/5 [==============================] - 0s 66ms/step - loss: 0.6024 - accuracy: 0.6288\n",
            "Epoch 10/10\n",
            "5/5 [==============================] - 0s 68ms/step - loss: 0.6017 - accuracy: 0.6288\n",
            "5/5 [==============================] - 0s 6ms/step - loss: 0.5917 - accuracy: 0.6288\n",
            "Test Loss: 0.5916842222213745\n",
            "Test Accuracy: 0.6287878751754761\n",
            "5/5 [==============================] - 0s 5ms/step\n",
            "Resultados esperados:  [1 1 0 1 0 1 1 1 0 1 0 0 1 1 1 1 0 1 0 1]\n",
            "Resultados obtenidos:  [[1]\n",
            " [1]\n",
            " [1]\n",
            " [1]\n",
            " [1]\n",
            " [1]\n",
            " [1]\n",
            " [1]\n",
            " [1]\n",
            " [1]\n",
            " [1]\n",
            " [1]\n",
            " [1]\n",
            " [1]\n",
            " [1]\n",
            " [1]\n",
            " [1]\n",
            " [1]\n",
            " [1]\n",
            " [1]]\n"
          ]
        },
        {
          "data": {
            "text/html": [
              "<div>\n",
              "<style scoped>\n",
              "    .dataframe tbody tr th:only-of-type {\n",
              "        vertical-align: middle;\n",
              "    }\n",
              "\n",
              "    .dataframe tbody tr th {\n",
              "        vertical-align: top;\n",
              "    }\n",
              "\n",
              "    .dataframe thead th {\n",
              "        text-align: right;\n",
              "    }\n",
              "</style>\n",
              "<table border=\"1\" class=\"dataframe\">\n",
              "  <thead>\n",
              "    <tr style=\"text-align: right;\">\n",
              "      <th></th>\n",
              "      <th>Accuracy</th>\n",
              "      <th>Precision</th>\n",
              "      <th>Recall</th>\n",
              "      <th>F1 Score</th>\n",
              "      <th>AUC</th>\n",
              "    </tr>\n",
              "  </thead>\n",
              "  <tbody>\n",
              "    <tr>\n",
              "      <th>0</th>\n",
              "      <td>0.628788</td>\n",
              "      <td>0.628788</td>\n",
              "      <td>1.0</td>\n",
              "      <td>0.772093</td>\n",
              "      <td>0.5</td>\n",
              "    </tr>\n",
              "  </tbody>\n",
              "</table>\n",
              "</div>"
            ],
            "text/plain": [
              "   Accuracy  Precision  Recall  F1 Score  AUC\n",
              "0  0.628788   0.628788     1.0  0.772093  0.5"
            ]
          },
          "metadata": {},
          "output_type": "display_data"
        },
        {
          "data": {
            "image/png": "[encoded data removed]",
            "text/plain": [
              "<Figure size 640x480 with 1 Axes>"
            ]
          },
          "metadata": {},
          "output_type": "display_data"
        }
      ],
      "source": [
        "# Compile the model\n",
        "model.compile(optimizer='adam', loss='binary_crossentropy', metrics=['accuracy'])\n",
        "# Define batch size\n",
        "batch_size = 32\n",
        "# Train the model with batches\n",
        "epochs = 10\n",
        "model.fit(test_features, test_labels, batch_size=batch_size, epochs=epochs)\n",
        "# Evaluate the model with batches\n",
        "loss, accuracy = model.evaluate(test_features, test_labels, batch_size=batch_size)\n",
        "print(\"Test Loss:\", loss)\n",
        "print(\"Test Accuracy:\", accuracy)\n",
        "# Make predictions\n",
        "predictions = model.predict(test_features, batch_size=batch_size)\n",
        "predictions = (predictions > 0.5).astype(int)\n",
        "# Compute metrics\n",
        "print('Resultados esperados: ', test_labels[:20])\n",
        "print('Resultados obtenidos: ', predictions[:20])\n",
        "computeMetrics(test_labels, predictions)"
      ]
    },
    {
      "cell_type": "markdown",
      "metadata": {},
      "source": [
        "### Autoencoder"
      ]
    },
    {
      "cell_type": "code",
      "execution_count": 1,
      "metadata": {},
      "outputs": [
        {
          "ename": "NameError",
          "evalue": "name 'keras' is not defined",
          "output_type": "error",
          "traceback": [
            "\u001b[0;31m---------------------------------------------------------------------------\u001b[0m",
            "\u001b[0;31mNameError\u001b[0m                                 Traceback (most recent call last)",
            "Cell \u001b[0;32mIn[1], line 5\u001b[0m\n\u001b[1;32m      2\u001b[0m input_dim \u001b[39m=\u001b[39m \u001b[39m65536\u001b[39m       \u001b[39m# Dimensionality of the input data\u001b[39;00m\n\u001b[1;32m      3\u001b[0m encoded_dim \u001b[39m=\u001b[39m \u001b[39m16384\u001b[39m     \u001b[39m# Dimensionality of the encoded representations\u001b[39;00m\n\u001b[0;32m----> 5\u001b[0m encoder_input \u001b[39m=\u001b[39m keras\u001b[39m.\u001b[39mInput(shape\u001b[39m=\u001b[39m(input_dim,))\n\u001b[1;32m      6\u001b[0m encoder_output \u001b[39m=\u001b[39m keras\u001b[39m.\u001b[39mlayers\u001b[39m.\u001b[39mDense(encoded_dim, activation\u001b[39m=\u001b[39m\u001b[39m'\u001b[39m\u001b[39mrelu\u001b[39m\u001b[39m'\u001b[39m)(encoder_input)\n\u001b[1;32m      7\u001b[0m decoder_output \u001b[39m=\u001b[39m keras\u001b[39m.\u001b[39mlayers\u001b[39m.\u001b[39mDense(input_dim, activation\u001b[39m=\u001b[39m\u001b[39m'\u001b[39m\u001b[39msigmoid\u001b[39m\u001b[39m'\u001b[39m)(encoder_output)\n",
            "\u001b[0;31mNameError\u001b[0m: name 'keras' is not defined"
          ]
        }
      ],
      "source": [
        "# Define the autoencoder model\n",
        "input_dim = 65536       # Dimensionality of the input data\n",
        "encoded_dim = 16384     # Dimensionality of the encoded representations\n",
        "\n",
        "encoder_input = keras.Input(shape=(input_dim,))\n",
        "encoder_output = keras.layers.Dense(encoded_dim, activation='relu')(encoder_input)\n",
        "decoder_output = keras.layers.Dense(input_dim, activation='sigmoid')(encoder_output)\n",
        "autoencoder = keras.Model(inputs=encoder_input, outputs=decoder_output)\n",
        "\n",
        "# Compile the autoencoder\n",
        "autoencoder.compile(optimizer='adam', loss='binary_crossentropy')\n",
        "\n",
        "# Print the summary of the autoencoder model\n",
        "autoencoder.summary()\n",
        "\n",
        "# Train the autoencoder\n",
        "autoencoder.fit(train_features, train_features, epochs=epochs, batch_size=batch_size)\n",
        "# Obtain the encoded representations\n",
        "encoded_features = autoencoder.encoder.predict(train_features)\n",
        "\n",
        "# Split the encoded data into training and testing sets\n",
        "train_enc_features, test_enc_features, train_labels, test_labels = train_test_split(\n",
        "    encoded_features, labels, test_size=0.2, random_state=42)\n"
      ]
    },
    {
      "cell_type": "code",
      "execution_count": null,
      "metadata": {},
      "outputs": [],
      "source": [
        "\n",
        "# Define the MLP model\n",
        "model = keras.Sequential([\n",
        "    keras.layers.Dense(64, activation='relu', input_dim=<encoded_dim>),  # Adjust input_dim with the appropriate value\n",
        "    keras.layers.Dense(32, activation='relu'),\n",
        "    keras.layers.Dense(1, activation='sigmoid')\n",
        "])\n",
        "\n",
        "# Compile the model\n",
        "model.compile(optimizer='adam', loss='binary_crossentropy', metrics=['accuracy'])\n",
        "\n",
        "# Define batch size\n",
        "batch_size = 32\n",
        "\n",
        "# Train the model with encoded data\n",
        "epochs = 10\n",
        "model.fit(train_enc_features, train_labels, batch_size=batch_size, epochs=epochs)\n",
        "\n",
        "# Evaluate the model with encoded data\n",
        "loss, accuracy = model.evaluate(test_enc_features, test_labels, batch_size=batch_size)\n",
        "print(\"Test Loss:\", loss)\n",
        "print(\"Test Accuracy:\", accuracy)\n",
        "\n",
        "# Make predictions with encoded data\n",
        "predictions = model.predict(test_enc_features, batch_size=batch_size)"
      ]
    }
  ],
  "metadata": {
    "colab": {
      "authorship_tag": "ABX9TyMo/YE+Ue5Ex24aCBo2LZOY",
      "include_colab_link": true,
      "provenance": [],
      "toc_visible": true
    },
    "kernelspec": {
      "display_name": "Python 3",
      "language": "python",
      "name": "python3"
    },
    "language_info": {
      "codemirror_mode": {
        "name": "ipython",
        "version": 3
      },
      "file_extension": ".py",
      "mimetype": "text/x-python",
      "name": "python",
      "nbconvert_exporter": "python",
      "pygments_lexer": "ipython3",
      "version": "3.10.8 (main, Nov  1 2022, 14:18:21) [GCC 12.2.0]"
    },
    "vscode": {
      "interpreter": {
        "hash": "e7370f93d1d0cde622a1f8e1c04877d8463912d04d973331ad4851f04de6915a"
      }
    }
  },
  "nbformat": 4,
  "nbformat_minor": 0
}
