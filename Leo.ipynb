{
  "nbformat": 4,
  "nbformat_minor": 0,
  "metadata": {
    "colab": {
      "provenance": [],
      "gpuType": "T4",
      "authorship_tag": "ABX9TyNw2+YJzSZ6uNqjLEZ/b9P/",
      "include_colab_link": true
    },
    "kernelspec": {
      "name": "python3",
      "display_name": "Python 3"
    },
    "language_info": {
      "name": "python"
    },
    "accelerator": "GPU"
  },
  "cells": [
    {
      "cell_type": "markdown",
      "metadata": {
        "id": "view-in-github",
        "colab_type": "text"
      },
      "source": [
        "<a href=\"https://colab.research.google.com/github/joshual777/PatronesProyecto3/blob/feature%2FHipotesis-1/Leo.ipynb\" target=\"_parent\"><img src=\"https://colab.research.google.com/assets/colab-badge.svg\" alt=\"Open In Colab\"/></a>"
      ]
    },
    {
      "cell_type": "code",
      "source": [
        "import os\n",
        "import cv2\n",
        "import numpy as np\n",
        "from google.colab.patches import cv2_imshow\n",
        "import tensorflow as tf"
      ],
      "metadata": {
        "id": "oVLPi3JZWgwj"
      },
      "execution_count": 1,
      "outputs": []
    },
    {
      "cell_type": "code",
      "source": [
        "from google.colab import drive\n",
        "# Montar Google Drive\n",
        "drive.mount('/content/drive')"
      ],
      "metadata": {
        "colab": {
          "base_uri": "https://localhost:8080/"
        },
        "id": "Mk0qgU48S6nZ",
        "outputId": "3e44946e-19c8-4d17-8b77-fe82d68f1977"
      },
      "execution_count": 1,
      "outputs": [
        {
          "output_type": "stream",
          "name": "stdout",
          "text": [
            "Mounted at /content/drive\n"
          ]
        }
      ]
    },
    {
      "cell_type": "code",
      "source": [
        "# Verificar si la GPU está disponible\n",
        "if tf.test.is_gpu_available():\n",
        "    # Configurar el dispositivo para utilizar la GPU\n",
        "    device = tf.device('/GPU:0')\n",
        "else:\n",
        "    # Si la GPU no está disponible, utiliza la CPU\n",
        "    device = tf.device('/CPU:0')"
      ],
      "metadata": {
        "colab": {
          "base_uri": "https://localhost:8080/"
        },
        "id": "rdTUUnQhgj38",
        "outputId": "2618ba24-3d5c-40a1-cc4b-b67d93fb6813"
      },
      "execution_count": 3,
      "outputs": [
        {
          "output_type": "stream",
          "name": "stderr",
          "text": [
            "WARNING:tensorflow:From <ipython-input-3-2bed8862a7c9>:2: is_gpu_available (from tensorflow.python.framework.test_util) is deprecated and will be removed in a future version.\n",
            "Instructions for updating:\n",
            "Use `tf.config.list_physical_devices('GPU')` instead.\n"
          ]
        }
      ]
    },
    {
      "cell_type": "code",
      "source": [
        "with device:\n",
        "    # Ruta a la carpeta del conjunto de datos en Google Drive\n",
        "    data_folders =  [\"/content/drive/MyDrive/Colab Notebooks/Plant_leave_diseases_dataset/Apple___Apple_scab\", \n",
        "                    \"/content/drive/MyDrive/Colab Notebooks/Plant_leave_diseases_dataset/Apple___Black_rot\",\n",
        "                    \"/content/drive/MyDrive/Colab Notebooks/Plant_leave_diseases_dataset/Apple___Cedar_apple_rust\",\n",
        "                    \"/content/drive/MyDrive/Colab Notebooks/Plant_leave_diseases_dataset/Apple___healthy\",\n",
        "                    \"/content/drive/MyDrive/Colab Notebooks/Plant_leave_diseases_dataset/Blueberry___healthy\",\n",
        "                    \"/content/drive/MyDrive/Colab Notebooks/Plant_leave_diseases_dataset/Cherry___Powdery_mildew\",\n",
        "                    \"/content/drive/MyDrive/Colab Notebooks/Plant_leave_diseases_dataset/Cherry___healthy\",\n",
        "                    \"/content/drive/MyDrive/Colab Notebooks/Plant_leave_diseases_dataset/Corn___Cercospora_leaf_spot Gray_leaf_spot\",\n",
        "                    \"/content/drive/MyDrive/Colab Notebooks/Plant_leave_diseases_dataset/Corn___Common_rust\",\n",
        "                    \"/content/drive/MyDrive/Colab Notebooks/Plant_leave_diseases_dataset/Corn___Northern_Leaf_Blight\",\n",
        "                    \"/content/drive/MyDrive/Colab Notebooks/Plant_leave_diseases_dataset/Corn___healthy\",\n",
        "                    \"/content/drive/MyDrive/Colab Notebooks/Plant_leave_diseases_dataset/Grape___Black_rot\",\n",
        "                    \"/content/drive/MyDrive/Colab Notebooks/Plant_leave_diseases_dataset/Grape___Esca_(Black_Measles)\",\n",
        "                    \"/content/drive/MyDrive/Colab Notebooks/Plant_leave_diseases_dataset/Grape___Leaf_blight_(Isariopsis_Leaf_Spot)\",\n",
        "                    \"/content/drive/MyDrive/Colab Notebooks/Plant_leave_diseases_dataset/Grape___healthy\",\n",
        "                    \"/content/drive/MyDrive/Colab Notebooks/Plant_leave_diseases_dataset/Orange___Haunglongbing_(Citrus_greening)\",\n",
        "                    \"/content/drive/MyDrive/Colab Notebooks/Plant_leave_diseases_dataset/Peach___Bacterial_spot\",\n",
        "                    \"/content/drive/MyDrive/Colab Notebooks/Plant_leave_diseases_dataset/Peach___healthy\",\n",
        "                    \"/content/drive/MyDrive/Colab Notebooks/Plant_leave_diseases_dataset/Pepper,_bell___Bacterial_spot\",\n",
        "                    \"/content/drive/MyDrive/Colab Notebooks/Plant_leave_diseases_dataset/Pepper,_bell___healthy\",\n",
        "                    \"/content/drive/MyDrive/Colab Notebooks/Plant_leave_diseases_dataset/Potato___Early_blight\",\n",
        "                    \"/content/drive/MyDrive/Colab Notebooks/Plant_leave_diseases_dataset/Potato___Late_blight\",\n",
        "                    \"/content/drive/MyDrive/Colab Notebooks/Plant_leave_diseases_dataset/Potato___healthy\",\n",
        "                    \"/content/drive/MyDrive/Colab Notebooks/Plant_leave_diseases_dataset/Raspberry___healthy\",\n",
        "                    \"/content/drive/MyDrive/Colab Notebooks/Plant_leave_diseases_dataset/Soybean___healthy\",\n",
        "                    \"/content/drive/MyDrive/Colab Notebooks/Plant_leave_diseases_dataset/Squash___Powdery_mildew\",\n",
        "                    \"/content/drive/MyDrive/Colab Notebooks/Plant_leave_diseases_dataset/Strawberry___Leaf_scorch\",\n",
        "                    \"/content/drive/MyDrive/Colab Notebooks/Plant_leave_diseases_dataset/Strawberry___healthy\",\n",
        "                    \"/content/drive/MyDrive/Colab Notebooks/Plant_leave_diseases_dataset/Tomato___Bacterial_spot\",\n",
        "                    \"/content/drive/MyDrive/Colab Notebooks/Plant_leave_diseases_dataset/Tomato___Early_blight\",\n",
        "                    \"/content/drive/MyDrive/Colab Notebooks/Plant_leave_diseases_dataset/Tomato___Late_blight\",\n",
        "                    \"/content/drive/MyDrive/Colab Notebooks/Plant_leave_diseases_dataset/Tomato___Leaf_Mold\",\n",
        "                    \"/content/drive/MyDrive/Colab Notebooks/Plant_leave_diseases_dataset/Tomato___Septoria_leaf_spot\",\n",
        "                    \"/content/drive/MyDrive/Colab Notebooks/Plant_leave_diseases_dataset/Tomato___Spider_mites Two-spotted_spider_mite\",\n",
        "                    \"/content/drive/MyDrive/Colab Notebooks/Plant_leave_diseases_dataset/Tomato___Target_Spot\",\n",
        "                    \"/content/drive/MyDrive/Colab Notebooks/Plant_leave_diseases_dataset/Tomato___Tomato_Yellow_Leaf_Curl_Virus\",\n",
        "                    \"/content/drive/MyDrive/Colab Notebooks/Plant_leave_diseases_dataset/Tomato___Tomato_mosaic_virus\",\n",
        "                    \"/content/drive/MyDrive/Colab Notebooks/Plant_leave_diseases_dataset/Tomato___healthy\"]\n",
        "\n",
        "    # Definir las etiquetas correspondientes\n",
        "    labels = {\n",
        "        \"Apple___Apple_scab\": 1,\n",
        "        \"Apple___Black_rot\": 1,\n",
        "        \"Apple___Cedar_apple_rust\": 1,\n",
        "        \"Apple___healthy\": 0,\n",
        "        \"Blueberry___healthy\": 0,\n",
        "        \"Cherry___Powdery_mildew\": 1,\n",
        "        \"Cherry___healthy\": 0,\n",
        "        \"Corn___Cercospora_leaf_spot Gray_leaf_spot\":1,\n",
        "        \"Corn___Common_rust\":1,\n",
        "        \"Corn___Northern_Leaf_Blight\":1,\n",
        "        \"Corn___healthy\":0,\n",
        "        \"Grape___Black_rot\":1,\n",
        "        \"Grape___Esca_(Black_Measles)\":1,\n",
        "        \"Grape___Leaf_blight_(Isariopsis_Leaf_Spot)\":1,\n",
        "        \"Grape___healthy\":0,\n",
        "        \"Orange___Haunglongbing_(Citrus_greening)\":1,\n",
        "        \"Peach___Bacterial_spot\":1,\n",
        "        \"Peach___healthy\":0,\n",
        "        \"Pepper,_bell___Bacterial_spot\":1,\n",
        "        \"Pepper,_bell___healthy\":0,\n",
        "        \"Potato___Early_blight\":1,\n",
        "        \"Potato___Late_blight\":1,\n",
        "        \"Potato___healthy\":0,\n",
        "        \"Raspberry___healthy\":0,\n",
        "        \"Soybean___healthy\":0,\n",
        "        \"Squash___Powdery_mildew\":1,\n",
        "        \"Strawberry___Leaf_scorch\":1,\n",
        "        \"Strawberry___healthy\":0,\n",
        "        \"Tomato___Bacterial_spot\":1,\n",
        "        \"Tomato___Early_blight\":1,\n",
        "        \"Tomato___Late_blight\":1,\n",
        "        \"Tomato___Leaf_Mold\":1,\n",
        "        \"Tomato___Septoria_leaf_spot\":1,\n",
        "        \"Tomato___Spider_mites Two-spotted_spider_mite\":1,\n",
        "        \"Tomato___Target_Spot\":1,\n",
        "        \"Tomato___Tomato_Yellow_Leaf_Curl_Virus\":1,\n",
        "        \"Tomato___Tomato_mosaic_virus\":1,\n",
        "        \"Tomato___healthy\":0\n",
        "    }\n",
        "\n",
        "    # Listas para almacenar las imágenes y las etiquetas\n",
        "    images = []\n",
        "    label_list = []\n",
        "\n",
        "    # Recorrer las carpetas y cargar las imágenes\n",
        "    for folder in data_folders:\n",
        "        label = labels.get(os.path.basename(folder), 0)  # Obtener la etiqueta correspondiente\n",
        "        #print(folder)\n",
        "        count = 0  # Variable de conteo\n",
        "        for filename in os.listdir(folder):\n",
        "            if count >= 20:  # Controlar el número de archivos leídos\n",
        "              break\n",
        "            if filename.endswith(\".JPG\"):\n",
        "                #print(filename)\n",
        "                image_path = os.path.join(folder, filename)\n",
        "                image = cv2.imread(image_path)\n",
        "                images.append(image)\n",
        "                label_list.append(label)\n",
        "            if filename.endswith(\".jpg\"):\n",
        "                #print(filename)\n",
        "                image_path = os.path.join(folder, filename)\n",
        "                image = cv2.imread(image_path)\n",
        "                images.append(image)\n",
        "                label_list.append(label)\n",
        "            count += 1  # Incrementar el conteo\n",
        "\n",
        "    # Convertir las listas de imágenes y etiquetas a arreglos numpy\n",
        "    images = np.array(images)\n",
        "    labels = np.array(label_list)\n",
        "\n",
        "    # Imprimir el tamaño de las imágenes y las etiquetas\n",
        "    print(\"Tamaño de las imágenes:\", images.shape)\n",
        "    print(\"Tamaño de las etiquetas:\", labels.shape)\n",
        "\n",
        "    cv2_imshow(images[2])"
      ],
      "metadata": {
        "colab": {
          "base_uri": "https://localhost:8080/",
          "height": 308
        },
        "id": "Xu6k3q7pS--B",
        "outputId": "dda45f57-68a7-460b-bfd2-2518a1e7c77a"
      },
      "execution_count": 4,
      "outputs": [
        {
          "output_type": "stream",
          "name": "stdout",
          "text": [
            "Tamaño de las imágenes: (760, 256, 256, 3)\n",
            "Tamaño de las etiquetas: (760,)\n"
          ]
        },
        {
          "output_type": "display_data",
          "data": {
            "text/plain": [
              "<PIL.Image.Image image mode=RGB size=256x256 at 0x7FA8FD5FE890>"
            ],
            "image/png": "[encoded data removed]"
          },
          "metadata": {}
        }
      ]
    },
    {
      "cell_type": "code",
      "source": [
        "import os\n",
        "import cv2\n",
        "import numpy as np\n",
        "from sklearn.model_selection import train_test_split\n",
        "from sklearn.metrics import accuracy_score, precision_score, f1_score, roc_auc_score\n",
        "import tensorflow as tf\n",
        "from tensorflow import keras\n",
        "from tensorflow.keras import layers\n",
        "\n",
        "with device:\n",
        "\n",
        "    # Dividir los datos etiquetados en conjuntos de entrenamiento y prueba\n",
        "    X_train, X_test, y_train, y_test = train_test_split(images, labels, test_size=0.2, random_state=42)\n",
        "    print(X_train.shape)\n",
        "    print(X_test.shape)\n",
        "    print(y_train.shape)\n",
        "    print(y_test.shape)\n",
        "    # Preprocesamiento y normalización de los datos de entrada (imágenes)\n",
        "    X_train = X_train.astype('float32') / 255.0\n",
        "    X_test = X_test.astype('float32') / 255.0\n",
        "\n",
        "    # Dividir el conjunto sin etiquetas para entrenar el autoencoder\n",
        "    X_unlabeled, _, _, _ = train_test_split(images, labels, test_size=1, random_state=42)\n",
        "\n",
        "    \n",
        "del images\n",
        "del labels"
      ],
      "metadata": {
        "colab": {
          "base_uri": "https://localhost:8080/"
        },
        "id": "73CTbzNncwjB",
        "outputId": "87ef6f5e-9718-4eb5-aa66-10be80f6bab6"
      },
      "execution_count": 5,
      "outputs": [
        {
          "output_type": "stream",
          "name": "stdout",
          "text": [
            "(608, 256, 256, 3)\n",
            "(152, 256, 256, 3)\n",
            "(608,)\n",
            "(152,)\n"
          ]
        }
      ]
    },
    {
      "cell_type": "markdown",
      "source": [
        "#Modelo sin encoder no pesos"
      ],
      "metadata": {
        "id": "e9GO6V-mKWWf"
      }
    },
    {
      "cell_type": "code",
      "source": [
        "with device:\n",
        "    \n",
        "    \n",
        "    # Entrenar el modelo desde cero\n",
        "    model_from_scratch = keras.Sequential([\n",
        "        layers.Conv2D(32, kernel_size=3, strides=2, activation='relu', padding='same', input_shape=(256, 256, 3)),\n",
        "        layers.MaxPooling2D(pool_size=(2, 2)),\n",
        "        layers.Conv2D(64, kernel_size=3, strides=2, activation='relu', padding='same'),\n",
        "        layers.MaxPooling2D(pool_size=(2, 2)),\n",
        "        layers.Flatten(),\n",
        "        layers.Dense(128, activation='relu'),\n",
        "        layers.Dense(2, activation='softmax')\n",
        "    ])\n",
        "\n",
        "    model_from_scratch.compile(optimizer='adam', loss='sparse_categorical_crossentropy', metrics=['accuracy'])\n",
        "    model_from_scratch.fit(X_train, y_train, epochs=10, batch_size=64)\n",
        "    y_pred_prob_from_scratch = model_from_scratch.predict(X_test)\n",
        "\n",
        "    # Obtener las clases predichas\n",
        "    y_pred_from_scratch = np.argmax(y_pred_prob_from_scratch, axis=1)\n",
        "\n",
        "    # Calcular métricas de evaluación\n",
        "    accuracy_scratch = accuracy_score(y_test, y_pred_from_scratch)\n",
        "    precision_scratch = precision_score(y_test, y_pred_from_scratch, average='macro')\n",
        "    f1_scratch = f1_score(y_test, y_pred_from_scratch, average='macro')\n",
        "    #auc_scratch = roc_auc_score(y_test, model_from_scratch.predict(X_test), average='macro')\n",
        "\n",
        "    # Imprimir las métricas\n",
        "    print(\"Metrics for model trained from scratch:\")\n",
        "    print(\"Accuracy:\", accuracy_scratch)\n",
        "    print(\"Precision:\", precision_scratch)\n",
        "    print(\"F1-Score:\", f1_scratch)\n",
        "    #print(\"AUC:\", auc_scratch)\n",
        "    print()\n",
        "\n",
        "\n",
        "    del model_from_scratch\n",
        "#"
      ],
      "metadata": {
        "colab": {
          "base_uri": "https://localhost:8080/"
        },
        "id": "4szDLwZjdUTy",
        "outputId": "5bcc430f-84bb-4460-9fa7-c488ddb8e1e8"
      },
      "execution_count": 6,
      "outputs": [
        {
          "output_type": "stream",
          "name": "stdout",
          "text": [
            "Epoch 1/10\n",
            "48/48 [==============================] - 15s 63ms/step - loss: 0.6152 - accuracy: 0.6687\n",
            "Epoch 2/10\n",
            "48/48 [==============================] - 2s 44ms/step - loss: 0.4230 - accuracy: 0.7990\n",
            "Epoch 3/10\n",
            "48/48 [==============================] - 2s 40ms/step - loss: 0.3171 - accuracy: 0.8589\n",
            "Epoch 4/10\n",
            "48/48 [==============================] - 2s 40ms/step - loss: 0.2661 - accuracy: 0.8855\n",
            "Epoch 5/10\n",
            "48/48 [==============================] - 2s 40ms/step - loss: 0.1913 - accuracy: 0.9263\n",
            "Epoch 6/10\n",
            "48/48 [==============================] - 2s 40ms/step - loss: 0.1788 - accuracy: 0.9247\n",
            "Epoch 7/10\n",
            "48/48 [==============================] - 2s 51ms/step - loss: 0.1289 - accuracy: 0.9536\n",
            "Epoch 8/10\n",
            "48/48 [==============================] - 3s 57ms/step - loss: 0.1060 - accuracy: 0.9589\n",
            "Epoch 9/10\n",
            "48/48 [==============================] - 2s 41ms/step - loss: 0.0939 - accuracy: 0.9651\n",
            "Epoch 10/10\n",
            "48/48 [==============================] - 2s 41ms/step - loss: 0.0843 - accuracy: 0.9730\n",
            "24/24 [==============================] - 1s 17ms/step\n",
            "Metrics for model trained from scratch:\n",
            "Accuracy: 0.8565789473684211\n",
            "Precision: 0.8675419955961114\n",
            "F1-Score: 0.8225025765409429\n",
            "\n"
          ]
        }
      ]
    },
    {
      "cell_type": "code",
      "source": [
        "from tensorflow.keras import layers, models\n",
        "\n",
        "with device:\n",
        "        # Definir y entrenar el autoencoder\n",
        "        autoencoder = models.Sequential([\n",
        "            layers.Conv2D(8, kernel_size=3, strides=2, activation='relu', padding='same', input_shape=(256, 256, 3)),\n",
        "            layers.Conv2D(16, kernel_size=3, strides=2, activation='relu', padding='same'),\n",
        "            layers.Conv2DTranspose(8, kernel_size=3, strides=2, activation='relu', padding='same'),\n",
        "            layers.Conv2DTranspose(3, kernel_size=3, strides=2, activation='sigmoid', padding='same', name='decoded')\n",
        "            ])\n",
        "\n",
        "        autoencoder.compile(optimizer='adam', loss='mse')\n",
        "        autoencoder.fit(X_unlabeled, X_unlabeled, epochs=3, batch_size=8)\n",
        "        print(\"Forma convertida:\", X_unlabeled.shape)\n",
        "        print(\"Forma convertida:\", X_unlabeled.shape)\n",
        "        # Obtener la representación latente de las imágenes con el encoder del autoencoder\n",
        "        encoder = keras.Model(inputs=autoencoder.input, outputs=autoencoder.layers[2].output)\n",
        "        X_train_encoded = encoder.predict(X_train)\n",
        "        X_test_encoded = encoder.predict(X_test)\n"
      ],
      "metadata": {
        "colab": {
          "base_uri": "https://localhost:8080/"
        },
        "id": "X8nLncy_ruFc",
        "outputId": "d60f27eb-1fc2-423e-e36e-3392e1bebe8a"
      },
      "execution_count": 8,
      "outputs": [
        {
          "output_type": "stream",
          "name": "stdout",
          "text": [
            "Epoch 1/3\n",
            "95/95 [==============================] - 3s 10ms/step - loss: 16435.0586\n",
            "Epoch 2/3\n",
            "95/95 [==============================] - 1s 8ms/step - loss: 16396.9375\n",
            "Epoch 3/3\n",
            "95/95 [==============================] - 1s 8ms/step - loss: 16396.6777\n",
            "Forma convertida: (759, 256, 256, 3)\n",
            "Forma convertida: (759, 256, 256, 3)\n",
            "19/19 [==============================] - 0s 16ms/step\n",
            "5/5 [==============================] - 0s 11ms/step\n"
          ]
        }
      ]
    },
    {
      "cell_type": "code",
      "source": [],
      "metadata": {
        "id": "89cQGPP-uH30"
      },
      "execution_count": null,
      "outputs": []
    },
    {
      "cell_type": "code",
      "source": [
        "with device:\n",
        "    # Entrenar el modelo utilizando el encoder como base (pesos congelados)\n",
        "    model_encoder_frozen = keras.Sequential([\n",
        "        encoder,\n",
        "        layers.Dense(128, activation='relu'),\n",
        "        layers.Dense(2, activation='softmax')\n",
        "    ])\n",
        "    print(\"Forma original:\", X_train.shape)\n",
        "    #y_train = np.argmax(y_train, axis=1)\n",
        "    print(\"Forma original:\", y_train.shape)\n",
        "    model_encoder_frozen.compile(optimizer='adam', loss='categorical_crossentropy', metrics=['accuracy'])\n",
        "    model_encoder_frozen.fit(X_train, y_train, epochs=3, batch_size=16)\n",
        "    y_pred_encoder_frozen = model_encoder_frozen.predict_classes(X_test)\n",
        "\n",
        "    # Calcular métricas de evaluación\n",
        "    accuracy_frozen = accuracy_score(y_test, y_pred_encoder_frozen)\n",
        "    precision_frozen = precision_score(y_test, y_pred_encoder_frozen, average='macro')\n",
        "    f1_frozen = f1_score(y_test, y_pred_encoder_frozen, average='macro')\n",
        "\n",
        "    print(\"Metrics for model with frozen encoder:\")\n",
        "    print(\"Accuracy:\", accuracy_frozen)\n",
        "    print(\"Precision:\", precision_frozen)\n",
        "    print(\"F1-Score:\", f1_frozen)\n",
        "    print()\n",
        "\n",
        "    del model_encoder_frozen"
      ],
      "metadata": {
        "id": "-M52ufMNde09"
      },
      "execution_count": null,
      "outputs": []
    },
    {
      "cell_type": "code",
      "source": [
        "# Entrenar el modelo utilizando el encoder como base (pesos modificables)\n",
        "    model_encoder_trainable = keras.Sequential([\n",
        "        encoder,\n",
        "        layers.Dense(128, activation='relu'),\n",
        "        layers.Dense(2, activation='softmax')\n",
        "    ])\n",
        "\n",
        "    model_encoder_trainable.compile(optimizer='adam', loss='sparse_categorical_crossentropy', metrics=['accuracy'])\n",
        "    model_encoder_trainable.fit(X_train, y_train, epochs=10, batch_size=8)\n",
        "\n",
        "    # Evaluar los modelos en el conjunto de prueba\n",
        "\n",
        "\n",
        "    y_pred_encoder_trainable = model_encoder_trainable.predict_classes(X_test)\n",
        "\n",
        "    # Calcular métricas de evaluación\n",
        "    accuracy_trainable = accuracy_score(y_test, y_pred_encoder_trainable)\n",
        "    precision_trainable = precision_score(y_test, y_pred_encoder_trainable, average='macro')\n",
        "    f1_trainable = f1_score(y_test, y_pred_encoder_trainable, average='macro')\n",
        "    #auc_trainable = roc_auc_score(y_test, model_encoder_trainable.predict(X_test), average='macro')\n",
        "\n",
        "    print(\"Metrics for model with trainable encoder:\")\n",
        "    print(\"Accuracy:\", accuracy_trainable)\n",
        "    print(\"Precision:\", precision_trainable)\n",
        "    print(\"F1-Score:\", f1_trainable)\n",
        "    #print(\"AUC:\", auc_trainable)\n",
        "\n",
        "    del model_encoder_trainable"
      ],
      "metadata": {
        "id": "s1SnvyP-n0a1"
      },
      "execution_count": null,
      "outputs": []
    },
    {
      "cell_type": "markdown",
      "source": [
        "Test"
      ],
      "metadata": {
        "id": "XtszIGV_00U-"
      }
    },
    {
      "cell_type": "markdown",
      "source": [
        "#Asignacion de datos a binario"
      ],
      "metadata": {
        "id": "qGpVIjJXKQi0"
      }
    },
    {
      "cell_type": "code",
      "source": [
        "import os\n",
        "import cv2\n",
        "import numpy as np\n",
        "from sklearn.model_selection import train_test_split\n",
        "from sklearn.metrics import accuracy_score, precision_score, f1_score, roc_auc_score\n",
        "import tensorflow as tf\n",
        "from tensorflow import keras\n",
        "from tensorflow.keras import layers\n",
        "\n",
        "# Ruta a la carpeta del conjunto de datos en Google Drive\n",
        "data_folders =  [\"/content/drive/MyDrive/Colab Notebooks/Plant_leave_diseases_dataset/Apple___Apple_scab\", \n",
        "                    \"/content/drive/MyDrive/Colab Notebooks/Plant_leave_diseases_dataset/Apple___Black_rot\",\n",
        "                    \"/content/drive/MyDrive/Colab Notebooks/Plant_leave_diseases_dataset/Apple___Cedar_apple_rust\",\n",
        "                    \"/content/drive/MyDrive/Colab Notebooks/Plant_leave_diseases_dataset/Apple___healthy\",\n",
        "                    \"/content/drive/MyDrive/Colab Notebooks/Plant_leave_diseases_dataset/Blueberry___healthy\",\n",
        "                    \"/content/drive/MyDrive/Colab Notebooks/Plant_leave_diseases_dataset/Cherry___Powdery_mildew\",\n",
        "                    \"/content/drive/MyDrive/Colab Notebooks/Plant_leave_diseases_dataset/Cherry___healthy\",\n",
        "                    \"/content/drive/MyDrive/Colab Notebooks/Plant_leave_diseases_dataset/Corn___Cercospora_leaf_spot Gray_leaf_spot\",\n",
        "                    \"/content/drive/MyDrive/Colab Notebooks/Plant_leave_diseases_dataset/Corn___Common_rust\",\n",
        "                    \"/content/drive/MyDrive/Colab Notebooks/Plant_leave_diseases_dataset/Corn___Northern_Leaf_Blight\",\n",
        "                    \"/content/drive/MyDrive/Colab Notebooks/Plant_leave_diseases_dataset/Corn___healthy\",\n",
        "                    \"/content/drive/MyDrive/Colab Notebooks/Plant_leave_diseases_dataset/Grape___Black_rot\",\n",
        "                    \"/content/drive/MyDrive/Colab Notebooks/Plant_leave_diseases_dataset/Grape___Esca_(Black_Measles)\",\n",
        "                    \"/content/drive/MyDrive/Colab Notebooks/Plant_leave_diseases_dataset/Grape___Leaf_blight_(Isariopsis_Leaf_Spot)\",\n",
        "                    \"/content/drive/MyDrive/Colab Notebooks/Plant_leave_diseases_dataset/Grape___healthy\",\n",
        "                    \"/content/drive/MyDrive/Colab Notebooks/Plant_leave_diseases_dataset/Orange___Haunglongbing_(Citrus_greening)\",\n",
        "                    \"/content/drive/MyDrive/Colab Notebooks/Plant_leave_diseases_dataset/Peach___Bacterial_spot\",\n",
        "                    \"/content/drive/MyDrive/Colab Notebooks/Plant_leave_diseases_dataset/Peach___healthy\",\n",
        "                    \"/content/drive/MyDrive/Colab Notebooks/Plant_leave_diseases_dataset/Pepper,_bell___Bacterial_spot\",\n",
        "                    \"/content/drive/MyDrive/Colab Notebooks/Plant_leave_diseases_dataset/Pepper,_bell___healthy\",\n",
        "                    \"/content/drive/MyDrive/Colab Notebooks/Plant_leave_diseases_dataset/Potato___Early_blight\",\n",
        "                    \"/content/drive/MyDrive/Colab Notebooks/Plant_leave_diseases_dataset/Potato___Late_blight\",\n",
        "                    \"/content/drive/MyDrive/Colab Notebooks/Plant_leave_diseases_dataset/Potato___healthy\",\n",
        "                    \"/content/drive/MyDrive/Colab Notebooks/Plant_leave_diseases_dataset/Raspberry___healthy\",\n",
        "                    \"/content/drive/MyDrive/Colab Notebooks/Plant_leave_diseases_dataset/Soybean___healthy\",\n",
        "                    \"/content/drive/MyDrive/Colab Notebooks/Plant_leave_diseases_dataset/Squash___Powdery_mildew\",\n",
        "                    \"/content/drive/MyDrive/Colab Notebooks/Plant_leave_diseases_dataset/Strawberry___Leaf_scorch\",\n",
        "                    \"/content/drive/MyDrive/Colab Notebooks/Plant_leave_diseases_dataset/Strawberry___healthy\",\n",
        "                    \"/content/drive/MyDrive/Colab Notebooks/Plant_leave_diseases_dataset/Tomato___Bacterial_spot\",\n",
        "                    \"/content/drive/MyDrive/Colab Notebooks/Plant_leave_diseases_dataset/Tomato___Early_blight\",\n",
        "                    \"/content/drive/MyDrive/Colab Notebooks/Plant_leave_diseases_dataset/Tomato___Late_blight\",\n",
        "                    \"/content/drive/MyDrive/Colab Notebooks/Plant_leave_diseases_dataset/Tomato___Leaf_Mold\",\n",
        "                    \"/content/drive/MyDrive/Colab Notebooks/Plant_leave_diseases_dataset/Tomato___Septoria_leaf_spot\",\n",
        "                    \"/content/drive/MyDrive/Colab Notebooks/Plant_leave_diseases_dataset/Tomato___Spider_mites Two-spotted_spider_mite\",\n",
        "                    \"/content/drive/MyDrive/Colab Notebooks/Plant_leave_diseases_dataset/Tomato___Target_Spot\",\n",
        "                    \"/content/drive/MyDrive/Colab Notebooks/Plant_leave_diseases_dataset/Tomato___Tomato_Yellow_Leaf_Curl_Virus\",\n",
        "                    \"/content/drive/MyDrive/Colab Notebooks/Plant_leave_diseases_dataset/Tomato___Tomato_mosaic_virus\",\n",
        "                    \"/content/drive/MyDrive/Colab Notebooks/Plant_leave_diseases_dataset/Tomato___healthy\"]\n",
        "\n",
        "    # Definir las etiquetas correspondientes\n",
        "labels = {\n",
        "        \"Apple___Apple_scab\": 1,\n",
        "        \"Apple___Black_rot\": 1,\n",
        "        \"Apple___Cedar_apple_rust\": 1,\n",
        "        \"Apple___healthy\": 0,\n",
        "        \"Blueberry___healthy\": 0,\n",
        "        \"Cherry___Powdery_mildew\": 1,\n",
        "        \"Cherry___healthy\": 0,\n",
        "        \"Corn___Cercospora_leaf_spot Gray_leaf_spot\":1,\n",
        "        \"Corn___Common_rust\":1,\n",
        "        \"Corn___Northern_Leaf_Blight\":1,\n",
        "        \"Corn___healthy\":0,\n",
        "        \"Grape___Black_rot\":1,\n",
        "        \"Grape___Esca_(Black_Measles)\":1,\n",
        "        \"Grape___Leaf_blight_(Isariopsis_Leaf_Spot)\":1,\n",
        "        \"Grape___healthy\":0,\n",
        "        \"Orange___Haunglongbing_(Citrus_greening)\":1,\n",
        "        \"Peach___Bacterial_spot\":1,\n",
        "        \"Peach___healthy\":0,\n",
        "        \"Pepper,_bell___Bacterial_spot\":1,\n",
        "        \"Pepper,_bell___healthy\":0,\n",
        "        \"Potato___Early_blight\":1,\n",
        "        \"Potato___Late_blight\":1,\n",
        "        \"Potato___healthy\":0,\n",
        "        \"Raspberry___healthy\":0,\n",
        "        \"Soybean___healthy\":0,\n",
        "        \"Squash___Powdery_mildew\":1,\n",
        "        \"Strawberry___Leaf_scorch\":1,\n",
        "        \"Strawberry___healthy\":0,\n",
        "        \"Tomato___Bacterial_spot\":1,\n",
        "        \"Tomato___Early_blight\":1,\n",
        "        \"Tomato___Late_blight\":1,\n",
        "        \"Tomato___Leaf_Mold\":1,\n",
        "        \"Tomato___Septoria_leaf_spot\":1,\n",
        "        \"Tomato___Spider_mites Two-spotted_spider_mite\":1,\n",
        "        \"Tomato___Target_Spot\":1,\n",
        "        \"Tomato___Tomato_Yellow_Leaf_Curl_Virus\":1,\n",
        "        \"Tomato___Tomato_mosaic_virus\":1,\n",
        "        \"Tomato___healthy\":0\n",
        "    }\n",
        "\n",
        "\n",
        "# Listas para almacenar las imágenes y las etiquetas\n",
        "images = []\n",
        "label_list = []\n",
        "\n",
        "# Recorrer las carpetas y cargar las imágenes\n",
        "for folder in data_folders:\n",
        "    label = labels.get(os.path.basename(folder), 0)  # Obtener la etiqueta correspondiente\n",
        "    count = 0  # Variable de conteo\n",
        "    for filename in os.listdir(folder):\n",
        "        if count >= 20:  # Controlar el número de archivos leídos\n",
        "            break\n",
        "        if filename.lower().endswith((\".jpg\", \".JPG\")):\n",
        "            image_path = os.path.join(folder, filename)\n",
        "            image = cv2.imread(image_path)\n",
        "            images.append(image)\n",
        "            label_list.append(label)\n",
        "            count += 1\n",
        "\n",
        "# Convertir las listas de imágenes y etiquetas a arreglos numpy\n",
        "images = np.array(images)\n",
        "labels = np.array(label_list)\n",
        "\n",
        "# Preprocesamiento y normalización de los datos de entrada (imágenes)\n",
        "images = images.astype('float32') / 255.0\n",
        "\n",
        "# Dividir los datos etiquetados en conjuntos de entrenamiento y prueba\n",
        "X_train, X_test, y_train, y_test = train_test_split(images, labels, test_size=0.2, random_state=42)\n",
        "\n"
      ],
      "metadata": {
        "id": "DOKKcsAg016P"
      },
      "execution_count": 4,
      "outputs": []
    },
    {
      "cell_type": "markdown",
      "source": [
        "#Modelo con encoder con pesos congelados "
      ],
      "metadata": {
        "id": "OBEEnnoTKLQp"
      }
    },
    {
      "cell_type": "code",
      "source": [
        "# Crear el modelo del autoencoder\n",
        "input_shape = X_train[0].shape\n",
        "\n",
        "encoder_input = keras.Input(shape=input_shape)\n",
        "encoder_output = layers.Conv2D(16, (3, 3), activation='relu', padding='same')(encoder_input)\n",
        "encoder_output = layers.MaxPooling2D((2, 2), padding='same')(encoder_output)\n",
        "encoder_output = layers.Conv2D(8, (3, 3), activation='relu', padding='same')(encoder_output)\n",
        "encoder_output = layers.MaxPooling2D((2, 2), padding='same')(encoder_output)\n",
        "\n",
        "decoder_output = layers.Conv2D(8, (3, 3), activation='relu', padding='same')(encoder_output)\n",
        "decoder_output = layers.UpSampling2D((2, 2))(decoder_output)\n",
        "decoder_output = layers.Conv2D(16, (3, 3), activation='relu', padding='same')(decoder_output)\n",
        "decoder_output = layers.UpSampling2D((2, 2))(decoder_output)\n",
        "decoder_output = layers.Conv2D(3, (3, 3), activation='sigmoid', padding='same')(decoder_output)\n",
        "\n",
        "autoencoder = keras.Model(encoder_input, decoder_output)\n",
        "autoencoder.compile(optimizer='adam', loss='mse')\n",
        "\n",
        "# Entrenar el autoencoder\n",
        "autoencoder.fit(X_train, X_train, epochs=10, batch_size=16)\n",
        "\n",
        "# Obtener la salida del encoder (características latentes)\n",
        "encoder = keras.Model(encoder_input, encoder_output)\n",
        "encoder.trainable = False\n",
        "encoder_output = encoder(encoder_input)\n",
        "\n",
        "# Crear el modelo basado en el autoencoder\n",
        "classifier = layers.Flatten()(encoder_output)\n",
        "classifier = layers.Dense(64, activation='relu')(classifier)\n",
        "classifier = layers.Dense(1, activation='sigmoid')(classifier)\n",
        "\n",
        "model = keras.Model(encoder_input, classifier)\n",
        "model.compile(optimizer='adam', loss='binary_crossentropy', metrics=['accuracy'])\n",
        "\n",
        "# Entrenar el modelo basado en el autoencoder\n",
        "model.fit(X_train, y_train, epochs=10, batch_size=16)\n",
        "\n",
        "# Evaluar el modelo\n",
        "y_pred = model.predict(X_test)\n",
        "y_pred = (y_pred > 0.5).astype(int)\n",
        "accuracy = accuracy_score(y_test, y_pred)\n",
        "precision = precision_score(y_test, y_pred)\n",
        "f1 = f1_score(y_test, y_pred)\n",
        "#roc_auc = roc_auc_score(y_test, y_pred)\n",
        "\n",
        "print(\"Accuracy:\", accuracy)\n",
        "print(\"Precision:\", precision)\n",
        "print(\"F1 Score:\", f1)\n",
        "#print(\"ROC AUC Score:\", roc_auc)"
      ],
      "metadata": {
        "colab": {
          "base_uri": "https://localhost:8080/"
        },
        "id": "JWjDkTZS5bMK",
        "outputId": "22e7fe83-ecf0-4a53-8149-6b79e57b646e"
      },
      "execution_count": 5,
      "outputs": [
        {
          "output_type": "stream",
          "name": "stdout",
          "text": [
            "Epoch 1/10\n",
            "38/38 [==============================] - 4s 41ms/step - loss: 0.0317\n",
            "Epoch 2/10\n",
            "38/38 [==============================] - 1s 39ms/step - loss: 0.0127\n",
            "Epoch 3/10\n",
            "38/38 [==============================] - 1s 34ms/step - loss: 0.0079\n",
            "Epoch 4/10\n",
            "38/38 [==============================] - 1s 35ms/step - loss: 0.0064\n",
            "Epoch 5/10\n",
            "38/38 [==============================] - 1s 35ms/step - loss: 0.0060\n",
            "Epoch 6/10\n",
            "38/38 [==============================] - 1s 35ms/step - loss: 0.0058\n",
            "Epoch 7/10\n",
            "38/38 [==============================] - 1s 35ms/step - loss: 0.0056\n",
            "Epoch 8/10\n",
            "38/38 [==============================] - 1s 35ms/step - loss: 0.0055\n",
            "Epoch 9/10\n",
            "38/38 [==============================] - 1s 35ms/step - loss: 0.0053\n",
            "Epoch 10/10\n",
            "38/38 [==============================] - 1s 37ms/step - loss: 0.0050\n",
            "Epoch 1/10\n",
            "38/38 [==============================] - 2s 13ms/step - loss: 1.4569 - accuracy: 0.6628\n",
            "Epoch 2/10\n",
            "38/38 [==============================] - 0s 11ms/step - loss: 0.5354 - accuracy: 0.7533\n",
            "Epoch 3/10\n",
            "38/38 [==============================] - 0s 11ms/step - loss: 0.5274 - accuracy: 0.7500\n",
            "Epoch 4/10\n",
            "38/38 [==============================] - 0s 11ms/step - loss: 0.4677 - accuracy: 0.8076\n",
            "Epoch 5/10\n",
            "38/38 [==============================] - 0s 10ms/step - loss: 0.4588 - accuracy: 0.8010\n",
            "Epoch 6/10\n",
            "38/38 [==============================] - 0s 10ms/step - loss: 0.4395 - accuracy: 0.8141\n",
            "Epoch 7/10\n",
            "38/38 [==============================] - 0s 11ms/step - loss: 0.4273 - accuracy: 0.8076\n",
            "Epoch 8/10\n",
            "38/38 [==============================] - 0s 10ms/step - loss: 0.4019 - accuracy: 0.8191\n",
            "Epoch 9/10\n",
            "38/38 [==============================] - 0s 10ms/step - loss: 0.4521 - accuracy: 0.7829\n",
            "Epoch 10/10\n",
            "38/38 [==============================] - 0s 11ms/step - loss: 0.3765 - accuracy: 0.8355\n",
            "5/5 [==============================] - 0s 16ms/step\n",
            "Accuracy: 0.756578947368421\n",
            "Precision: 0.7413793103448276\n",
            "F1 Score: 0.8229665071770336\n"
          ]
        }
      ]
    },
    {
      "cell_type": "markdown",
      "source": [
        "#Modelo con encoder sin pesos congelados"
      ],
      "metadata": {
        "id": "V-rdFmBjKEAf"
      }
    },
    {
      "cell_type": "code",
      "source": [
        "\n",
        "# Crear el modelo del autoencoder\n",
        "input_shape = X_train[0].shape\n",
        "\n",
        "encoder_input = keras.Input(shape=input_shape)\n",
        "encoder_output = layers.Conv2D(16, (3, 3), activation='relu', padding='same')(encoder_input)\n",
        "encoder_output = layers.MaxPooling2D((2, 2), padding='same')(encoder_output)\n",
        "encoder_output = layers.Conv2D(8, (3, 3), activation='relu', padding='same')(encoder_output)\n",
        "encoder_output = layers.MaxPooling2D((2, 2), padding='same')(encoder_output)\n",
        "\n",
        "decoder_output = layers.Conv2D(8, (3, 3), activation='relu', padding='same')(encoder_output)\n",
        "decoder_output = layers.UpSampling2D((2, 2))(decoder_output)\n",
        "decoder_output = layers.Conv2D(16, (3, 3), activation='relu', padding='same')(decoder_output)\n",
        "decoder_output = layers.UpSampling2D((2, 2))(decoder_output)\n",
        "decoder_output = layers.Conv2D(3, (3, 3), activation='sigmoid', padding='same')(decoder_output)\n",
        "\n",
        "autoencoder = keras.Model(encoder_input, decoder_output)\n",
        "autoencoder.compile(optimizer='adam', loss='mse')\n",
        "\n",
        "# Entrenar el autoencoder\n",
        "autoencoder.fit(X_train, X_train, epochs=10, batch_size=16)\n",
        "\n",
        "# Obtener la salida del encoder (características latentes)\n",
        "encoder = keras.Model(encoder_input, encoder_output)\n",
        "\n",
        "# Crear el modelo basado en el autoencoder\n",
        "classifier = layers.Flatten()(encoder_output)\n",
        "classifier = layers.Dense(64, activation='relu')(classifier)\n",
        "classifier = layers.Dense(1, activation='sigmoid')(classifier)\n",
        "\n",
        "model = keras.Model(encoder_input, classifier)\n",
        "model.compile(optimizer='adam', loss='binary_crossentropy', metrics=['accuracy'])\n",
        "\n",
        "# Entrenar el modelo basado en el autoencoder\n",
        "model.fit(X_train, y_train, epochs=10, batch_size=16)\n",
        "\n",
        "# Evaluar el modelo\n",
        "y_pred = model.predict(X_test)\n",
        "y_pred = (y_pred > 0.5).astype(int)\n",
        "accuracy = accuracy_score(y_test, y_pred)\n",
        "precision = precision_score(y_test, y_pred)\n",
        "f1 = f1_score(y_test, y_pred)\n",
        "#roc_auc = roc_auc_score(y_test, y_pred)\n",
        "\n",
        "print(\"Accuracy:\", accuracy)\n",
        "print(\"Precision:\", precision)\n",
        "print(\"F1 Score:\", f1)\n",
        "#print(\"ROC AUC Score:\", roc_auc)\n",
        "\n",
        "#En este código, se ha eliminado la línea encoder.trainable = False \n",
        "#para que los pesos del encoder no estén congelados y se actualicen \n",
        "#durante el entrenamiento del clasificador."
      ],
      "metadata": {
        "colab": {
          "base_uri": "https://localhost:8080/"
        },
        "id": "M5v2UQ1bJlYt",
        "outputId": "9de1003b-561a-483c-fed0-c2cb56871f46"
      },
      "execution_count": 6,
      "outputs": [
        {
          "output_type": "stream",
          "name": "stdout",
          "text": [
            "Epoch 1/10\n",
            "38/38 [==============================] - 4s 38ms/step - loss: 0.0344\n",
            "Epoch 2/10\n",
            "38/38 [==============================] - 1s 35ms/step - loss: 0.0140\n",
            "Epoch 3/10\n",
            "38/38 [==============================] - 1s 35ms/step - loss: 0.0088\n",
            "Epoch 4/10\n",
            "38/38 [==============================] - 1s 35ms/step - loss: 0.0073\n",
            "Epoch 5/10\n",
            "38/38 [==============================] - 1s 35ms/step - loss: 0.0066\n",
            "Epoch 6/10\n",
            "38/38 [==============================] - 1s 35ms/step - loss: 0.0062\n",
            "Epoch 7/10\n",
            "38/38 [==============================] - 1s 35ms/step - loss: 0.0058\n",
            "Epoch 8/10\n",
            "38/38 [==============================] - 1s 37ms/step - loss: 0.0056\n",
            "Epoch 9/10\n",
            "38/38 [==============================] - 1s 38ms/step - loss: 0.0055\n",
            "Epoch 10/10\n",
            "38/38 [==============================] - 1s 38ms/step - loss: 0.0054\n",
            "Epoch 1/10\n",
            "38/38 [==============================] - 2s 17ms/step - loss: 1.3680 - accuracy: 0.6562\n",
            "Epoch 2/10\n",
            "38/38 [==============================] - 1s 15ms/step - loss: 0.4802 - accuracy: 0.7549\n",
            "Epoch 3/10\n",
            "38/38 [==============================] - 1s 15ms/step - loss: 0.4037 - accuracy: 0.8059\n",
            "Epoch 4/10\n",
            "38/38 [==============================] - 1s 15ms/step - loss: 0.3345 - accuracy: 0.8454\n",
            "Epoch 5/10\n",
            "38/38 [==============================] - 1s 15ms/step - loss: 0.2748 - accuracy: 0.8882\n",
            "Epoch 6/10\n",
            "38/38 [==============================] - 1s 16ms/step - loss: 0.2044 - accuracy: 0.9276\n",
            "Epoch 7/10\n",
            "38/38 [==============================] - 1s 16ms/step - loss: 0.1383 - accuracy: 0.9655\n",
            "Epoch 8/10\n",
            "38/38 [==============================] - 1s 16ms/step - loss: 0.1244 - accuracy: 0.9704\n",
            "Epoch 9/10\n",
            "38/38 [==============================] - 1s 18ms/step - loss: 0.0899 - accuracy: 0.9753\n",
            "Epoch 10/10\n",
            "38/38 [==============================] - 1s 16ms/step - loss: 0.0578 - accuracy: 0.9852\n",
            "5/5 [==============================] - 0s 16ms/step\n",
            "Accuracy: 0.7828947368421053\n",
            "Precision: 0.8571428571428571\n",
            "F1 Score: 0.8135593220338982\n"
          ]
        }
      ]
    }
  ]
}